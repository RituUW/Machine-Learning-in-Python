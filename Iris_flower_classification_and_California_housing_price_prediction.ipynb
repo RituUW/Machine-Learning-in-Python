{
  "nbformat": 4,
  "nbformat_minor": 0,
  "metadata": {
    "kernelspec": {
      "display_name": "Python 3",
      "language": "python",
      "name": "python3"
    },
    "language_info": {
      "codemirror_mode": {
        "name": "ipython",
        "version": 3
      },
      "file_extension": ".py",
      "mimetype": "text/x-python",
      "name": "python",
      "nbconvert_exporter": "python",
      "pygments_lexer": "ipython3",
      "version": "3.6.3"
    },
    "colab": {
      "name": "Iris flower classification and California housing price prediction.ipynb",
      "provenance": [],
      "collapsed_sections": []
    }
  },
  "cells": [
    {
      "cell_type": "markdown",
      "metadata": {
        "id": "7bYyOjdzhs1T"
      },
      "source": [
        "# Decision Tree & Ensemble Learning\n",
        "\n",
        "Classification And Regression Trees (CART for short) is a term introduced by [Leo Breiman](https://en.wikipedia.org/wiki/Leo_Breiman) to refer to Decision Tree algorithms that can be used for classification or regression predictive modeling problems.\n",
        "\n",
        "Implement various ways to calculate impurity which is used to split data in constructing the decision trees and apply the Decision Tree and ensemble learning algorithms to solve two real-world problems: a classification one and a regression one. \n"
      ]
    },
    {
      "cell_type": "code",
      "metadata": {
        "id": "WsJh8RbLhs1V"
      },
      "source": [
        "# import packages\n",
        "%matplotlib inline\n",
        "import numpy as np\n",
        "import math\n",
        "import matplotlib.pyplot as plt\n",
        "import seaborn as sns\n",
        "import pandas as pd\n",
        "from matplotlib.legend_handler import HandlerLine2D\n",
        "from sklearn.metrics import accuracy_score\n",
        "from sklearn.metrics import confusion_matrix\n",
        "from sklearn.metrics import mean_squared_error\n",
        "from sklearn.metrics import mean_absolute_error\n",
        "from sklearn.tree import DecisionTreeClassifier\n",
        "from sklearn.tree import DecisionTreeRegressor\n",
        "from sklearn.model_selection import GridSearchCV\n",
        "from sklearn.ensemble import RandomForestClassifier\n",
        "from sklearn.ensemble import RandomForestRegressor\n",
        "from sklearn.metrics import roc_auc_score\n",
        "from sklearn.preprocessing import label_binarize\n",
        "from sklearn.utils import resample\n",
        "from sklearn.ensemble import GradientBoostingClassifier\n",
        "from sklearn.ensemble import GradientBoostingRegressor\n",
        "from sklearn.ensemble import AdaBoostClassifier\n",
        "from sklearn.ensemble import AdaBoostRegressor\n",
        "# make this notebook's output stable across runs\n",
        "np.random.seed(0)"
      ],
      "execution_count": null,
      "outputs": []
    },
    {
      "cell_type": "markdown",
      "metadata": {
        "id": "0wdJsuTqhs1a"
      },
      "source": [
        "## Gini impurity and Entropy\n"
      ]
    },
    {
      "cell_type": "markdown",
      "metadata": {
        "id": "gzfYaZ-hhs1b"
      },
      "source": [
        "#### Gini impurity\n",
        "\n",
        "The CART algorithm recursively splits the training set into two subsets using a single feature k and a threshold $t_k$. The best feature and threshold are chosen to produce the purest subsets weighted by their size. **Gini impurity** measures the impurity of the data points in a set and is used to evaluate how good a split is when the CART algorithm searches for the best pair of feature and the threshold.\n",
        "\n",
        "To compute Gini impurity for a set of items with J classes, suppose $i \\in \\{1, 2, \\dots, J\\}$ and let $p_i$ be the fraction of items labeled with class i in the set.\n",
        "\\begin{align}\n",
        "I(p) = 1 - \\sum_{i=1}^J p_i^2\n",
        "\\end{align}\n",
        "\n",
        "The following function calculates the gini impurity for a given set of data points."
      ]
    },
    {
      "cell_type": "code",
      "metadata": {
        "id": "sNexBvnehs1c"
      },
      "source": [
        "def gini_impurity(x):\n",
        "    \"\"\"\n",
        "    This function calculate the Gini impurity for a given set of data points.\n",
        "\n",
        "    Args:\n",
        "    x: a numpy ndarray\n",
        "    \"\"\"\n",
        "    unique, counts = np.unique(x, return_counts=True)\n",
        "    probabilities = counts / sum(counts)\n",
        "    gini = 1 - sum([p*p for p in probabilities])\n",
        "\n",
        "    return gini"
      ],
      "execution_count": null,
      "outputs": []
    },
    {
      "cell_type": "code",
      "metadata": {
        "id": "WmZaWVMxhs1g"
      },
      "source": [
        "np.testing.assert_equal(0, gini_impurity(np.array([1, 1, 1])))\n",
        "np.testing.assert_equal(0.5, gini_impurity(np.array([1, 0, 1, 0])))\n",
        "np.testing.assert_equal(3/4, gini_impurity(np.array(['a', 'b', 'c', 'd'])))\n",
        "np.testing.assert_almost_equal(2.0/3, gini_impurity(np.array([1, 2, 3, 1, 2, 3])))"
      ],
      "execution_count": null,
      "outputs": []
    },
    {
      "cell_type": "markdown",
      "metadata": {
        "id": "bSsc9tL7hs1k"
      },
      "source": [
        "#### Entropy\n",
        "\n",
        "Another popular measure of impurity is called **entropy**, which measures the average information content of a message. Entropy is zero when all messages are identical. When it applied to CART, a set's entropy is zero when it contains instances of only one class. Entropy is calculated as follows:\n",
        "\\begin{align}\n",
        "I(p) = - \\sum_{i=1}^J p_i log_2{p_i}\n",
        "\\end{align}\n",
        "\n",
        "<span style=\"color:orange\"> Implement the entropy function.**"
      ]
    },
    {
      "cell_type": "code",
      "metadata": {
        "id": "Wr8caP2Xhs1l"
      },
      "source": [
        "def entropy(x):\n",
        "    \"\"\"\n",
        "    TODO: This function calculate the entropy of an array.\n",
        "\n",
        "    Args:\n",
        "    x: a numpy ndarray\n",
        "    \"\"\"\n",
        "    e = 0 # TODO\n",
        "\n",
        "    unique, counts = np.unique(x, return_counts=True)\n",
        "  \n",
        "    probabilities = counts / sum(counts)\n",
        "    #e = - sum([p*math.log2(p) for p in probabilities])\n",
        "\n",
        "    for p in probabilities:\n",
        "        e += -p * math.log2(p)\n",
        "\n",
        "    return e"
      ],
      "execution_count": null,
      "outputs": []
    },
    {
      "cell_type": "code",
      "metadata": {
        "id": "xpOdGMWDhs1p"
      },
      "source": [
        "np.testing.assert_equal(0.0, entropy(np.array([1, 1,1])))\n",
        "np.testing.assert_equal(1.0, entropy(np.array([1, 0, 1, 0])))\n",
        "np.testing.assert_equal(2.0, entropy(np.array(['a', 'b', 'c', 'd'])))\n",
        "np.testing.assert_almost_equal(1.58496, entropy(np.array([1, 2, 3, 1, 2, 3])), 4)"
      ],
      "execution_count": null,
      "outputs": []
    },
    {
      "cell_type": "markdown",
      "metadata": {
        "id": "4qX1XT12hs1t"
      },
      "source": [
        "---"
      ]
    },
    {
      "cell_type": "markdown",
      "metadata": {
        "id": "EZGblkNkhs2g"
      },
      "source": [
        "## Iris dataset\n",
        "\n",
        "The Iris data set contains the morphologic variation of Iris flowers of three related species (Iris setosa, Iris virginica and Iris versicolor). Four features were measured from each observation (see image below):\n",
        "- Sepal.Length: sepal length in centimeters.\n",
        "- Sepal.Width: sepal width in centimeters.\n",
        "- Petal.Length: petal length in centimeters.\n",
        "- Petal.Width: petal width in centimeters.\n",
        "\n",
        "<table>\n",
        "  <tr>\n",
        "    <td><img src=\"https://upload.wikimedia.org/wikipedia/commons/thumb/5/56/Kosaciec_szczecinkowaty_Iris_setosa.jpg/180px-Kosaciec_szczecinkowaty_Iris_setosa.jpg\" style=\"width:250px\"></td>\n",
        "    <td><img src=\"https://www.math.umd.edu/~petersd/666/html/iris_with_labels.jpg\" width=\"250px\"></td>\n",
        "    <td><img src=\"https://upload.wikimedia.org/wikipedia/commons/thumb/9/9f/Iris_virginica.jpg/295px-Iris_virginica.jpg\" width=\"250px\"></td>\n",
        "  </tr>\n",
        "  <tr>\n",
        "    <td>Iris setosa</td>\n",
        "    <td>Iris versicolor</td>\n",
        "    <td>Iris virginica</td>\n",
        "  </tr>\n",
        "</table>\n"
      ]
    },
    {
      "cell_type": "code",
      "metadata": {
        "id": "8BfuNcWVhs2h",
        "colab": {
          "base_uri": "https://localhost:8080/"
        },
        "outputId": "d5b85db5-6a42-4a0d-b5b6-4eea5a01086f"
      },
      "source": [
        "# load the iris train and test data from CSV files\n",
        "train = pd.read_csv('https://raw.githubusercontent.com/zariable/data/master/iris_train.csv')\n",
        "test = pd.read_csv('https://raw.githubusercontent.com/zariable/data/master/iris_test.csv')\n",
        "\n",
        "train_x = train.iloc[:,0:4]\n",
        "train_y = train.iloc[:,4]\n",
        "\n",
        "test_x = test.iloc[:,0:4]\n",
        "test_y = test.iloc[:,4]\n",
        "\n",
        "# print the number of instances in each class\n",
        "print(train_y.value_counts().sort_index())\n",
        "print(test_y.value_counts().sort_index())"
      ],
      "execution_count": null,
      "outputs": [
        {
          "output_type": "stream",
          "text": [
            "Iris-setosa        34\n",
            "Iris-versicolor    32\n",
            "Iris-virginica     39\n",
            "Name: species, dtype: int64\n",
            "Iris-setosa        16\n",
            "Iris-versicolor    18\n",
            "Iris-virginica     11\n",
            "Name: species, dtype: int64\n"
          ],
          "name": "stdout"
        }
      ]
    },
    {
      "cell_type": "markdown",
      "metadata": {
        "id": "tpe8jv7Qhs2f"
      },
      "source": [
        "### Decision Tree Classifier\n",
        "\n",
        "<span style=\"color:orange\">**Apply the Decision Tree classifier to classify the Iris flower data.**"
      ]
    },
    {
      "cell_type": "markdown",
      "metadata": {
        "id": "8JwQoOdPhs2j"
      },
      "source": [
        "#### Train and visualize a simple Decision Tree\n",
        "\n",
        "<span style=\"color:orange\">**Build a Decision tree with max_depth of 2.**"
      ]
    },
    {
      "cell_type": "code",
      "metadata": {
        "scrolled": true,
        "id": "kQzTTFGlhs2k",
        "colab": {
          "base_uri": "https://localhost:8080/"
        },
        "outputId": "e118abd2-68fe-4328-87e8-c7aa67107c5f"
      },
      "source": [
        "# TODO: read the scikit-learn doc on DecisionTreeClassifier and train a Decision Tree with max depth of 2\n",
        "# model initialization\n",
        "dtc = DecisionTreeClassifier(max_depth=2)\n",
        "\n",
        "# train the model\n",
        "dtc.fit(train_x, train_y)\n",
        "\n"
      ],
      "execution_count": null,
      "outputs": [
        {
          "output_type": "execute_result",
          "data": {
            "text/plain": [
              "DecisionTreeClassifier(ccp_alpha=0.0, class_weight=None, criterion='gini',\n",
              "                       max_depth=2, max_features=None, max_leaf_nodes=None,\n",
              "                       min_impurity_decrease=0.0, min_impurity_split=None,\n",
              "                       min_samples_leaf=1, min_samples_split=2,\n",
              "                       min_weight_fraction_leaf=0.0, presort='deprecated',\n",
              "                       random_state=None, splitter='best')"
            ]
          },
          "metadata": {
            "tags": []
          },
          "execution_count": 7
        }
      ]
    },
    {
      "cell_type": "markdown",
      "metadata": {
        "id": "Tn25MVpchs2n"
      },
      "source": [
        "Now let's visualize the decision tree we just trained on the iris dataset and see how it makes predictions."
      ]
    },
    {
      "cell_type": "code",
      "metadata": {
        "scrolled": true,
        "id": "Y80Nilx1hs2o",
        "colab": {
          "base_uri": "https://localhost:8080/",
          "height": 490
        },
        "outputId": "633ed6c8-1f73-47dd-9e30-0e0845a581a6"
      },
      "source": [
        "from sklearn.externals.six import StringIO  \n",
        "from IPython.display import Image  \n",
        "from sklearn.tree import export_graphviz\n",
        "import pydotplus\n",
        "\n",
        "dot_data = StringIO()\n",
        "feature_names = train_x.columns\n",
        "class_names = train_y.unique()\n",
        "class_names.sort()\n",
        "export_graphviz(dtc, out_file=dot_data, feature_names=feature_names, class_names=class_names, filled=True, rounded=True)\n",
        "graph = pydotplus.graph_from_dot_data(dot_data.getvalue())  \n",
        "Image(graph.create_png())"
      ],
      "execution_count": null,
      "outputs": [
        {
          "output_type": "stream",
          "text": [
            "/usr/local/lib/python3.7/dist-packages/sklearn/externals/six.py:31: FutureWarning: The module is deprecated in version 0.21 and will be removed in version 0.23 since we've dropped support for Python 2.7. Please rely on the official version of six (https://pypi.org/project/six/).\n",
            "  \"(https://pypi.org/project/six/).\", FutureWarning)\n"
          ],
          "name": "stderr"
        },
        {
          "output_type": "execute_result",
          "data": {
            "image/png": "[encoded data removed]",
            "text/plain": [
              "<IPython.core.display.Image object>"
            ]
          },
          "metadata": {
            "tags": []
          },
          "execution_count": 8
        }
      ]
    },
    {
      "cell_type": "markdown",
      "metadata": {
        "id": "ZgqeLw6Lhs2t"
      },
      "source": [
        "Decision trees are easy to inteprete and is often referred to as *whitebox* machine learning algorithm. Let's see how this decision tree represented above makes predictions. Suppose you find an iris flower and want to classify it into setosa, versicolor or virginica. You start at the root node (the very top node in the tree). In this node, we check if the flower's patel length is smaller than or equal to 2.35 cm. If it is, we move to the left child and predict setosa to be its class. Otherwise, we move to the right child node. Then similarly we check if the petal length is smaller than or equal to 4.95 cm. If it is, we move to its left child node and predict versicolor to be its class. Otherwise, we move to its right child and predict virginica to be its class. "
      ]
    },
    {
      "cell_type": "markdown",
      "metadata": {
        "id": "W94pWMvIhs2t"
      },
      "source": [
        "#### Prediction with Decision tree\n",
        "\n",
        "With this simple decision tree above, we can apply it to make predictions on the test dataset and evaluate its performance.\n",
        "\n",
        "<span style=\"color:orange\">**Make prediction using the trained decision tree model on the test data.**"
      ]
    },
    {
      "cell_type": "code",
      "metadata": {
        "id": "ugRPudSThs2u",
        "colab": {
          "base_uri": "https://localhost:8080/"
        },
        "outputId": "07229921-a956-4610-80ee-49f5b84f07e5"
      },
      "source": [
        "# TODO: use the trained decision tree model to make predictions on the test data and evaluate the model performance.\n",
        "\n",
        "\n",
        "test_z = dtc.predict(test_x)\n",
        "#test_z_prob = dtc.predict_proba(test_x)[:,:]\n",
        "\n",
        "print(\"model accuracy: {}\".format(accuracy_score(test_y, test_z)))\n",
        "print(\"model confusion matrix:\\n {}\".format(confusion_matrix(test_y, test_z, labels=['Iris-setosa', 'Iris-versicolor', 'Iris-virginica'])))"
      ],
      "execution_count": null,
      "outputs": [
        {
          "output_type": "stream",
          "text": [
            "model accuracy: 0.9111111111111111\n",
            "model confusion matrix:\n",
            " [[16  0  0]\n",
            " [ 0 17  1]\n",
            " [ 0  3  8]]\n"
          ],
          "name": "stdout"
        }
      ]
    },
    {
      "cell_type": "markdown",
      "metadata": {
        "id": "RMzcZjQQhs2x"
      },
      "source": [
        "#### Hyper-parameters\n",
        "\n",
        "Hyper-parameter controls the complexity of the decision tree model. For example, the deeper the tree is, the more complex patterns the model will be able to capture. In this exercise, we train the decision trees with increasing number of maximum depth and plot its performance. We should see the accuracy of the training data increase as the tree grows deeper, but the accuracy on the test data might not as the model will eventually start to overfit and does not generalize well on the unseen test data.\n",
        "\n",
        "<span style=\"color:orange\">**For each value of max_depth, we train a decision tree model and evaluate its accuracy on both train and test data, and plot both accuracies in the figure.**"
      ]
    },
    {
      "cell_type": "code",
      "metadata": {
        "id": "uw23r_MXhs2x",
        "colab": {
          "base_uri": "https://localhost:8080/"
        },
        "outputId": "005b5fb8-ca8a-4995-fc92-90359046be54"
      },
      "source": [
        "# TODO: train the decision tree model with various max_depth, make predictions and evaluate on both train and test data.\n",
        "# model initialization\n",
        "dtc = DecisionTreeClassifier(max_depth=3)\n",
        "# train the model\n",
        "dtc.fit(train_x, train_y)\n",
        "# predict on train data \n",
        "train_z = dtc.predict(train_x)\n",
        "train_z_prob = dtc.predict_proba(train_x)[:,1]\n",
        "# predict on test data\n",
        "test_z = dtc.predict(test_x)\n",
        "test_z_prob = dtc.predict_proba(test_x)[:,1]\n",
        "# calculate model accuracy for train & test data \n",
        "print(\"model accuracy on train data: {}\".format(accuracy_score(train_y, train_z)))\n",
        "print(\"model accuracy on test data: {}\".format(accuracy_score(test_y, test_z)))"
      ],
      "execution_count": null,
      "outputs": [
        {
          "output_type": "stream",
          "text": [
            "model accuracy on train data: 0.9809523809523809\n",
            "model accuracy on test data: 0.9777777777777777\n"
          ],
          "name": "stdout"
        }
      ]
    },
    {
      "cell_type": "code",
      "metadata": {
        "colab": {
          "base_uri": "https://localhost:8080/"
        },
        "id": "xfvy_LR9UIxV",
        "outputId": "c4aa0406-bc52-4845-e75c-8208fe83fe3b"
      },
      "source": [
        "# model initialization\n",
        "dtc = DecisionTreeClassifier(max_depth=4)\n",
        "# train the model\n",
        "dtc.fit(train_x, train_y)\n",
        "# predict on train data \n",
        "train_z = dtc.predict(train_x)\n",
        "train_z = dtc.predict(train_x)\n",
        "# predict on test data\n",
        "train_z_prob = dtc.predict_proba(train_x)[:,1]\n",
        "test_z = dtc.predict(test_x)\n",
        "test_z_prob = dtc.predict_proba(test_x)[:,1]\n",
        "# calculate model accuracy for train & test data \n",
        "print(\"model accuracy on train data: {}\".format(accuracy_score(train_y, train_z)))\n",
        "print(\"model accuracy on test data: {}\".format(accuracy_score(test_y, test_z)))"
      ],
      "execution_count": null,
      "outputs": [
        {
          "output_type": "stream",
          "text": [
            "model accuracy on train data: 1.0\n",
            "model accuracy on test data: 0.9777777777777777\n"
          ],
          "name": "stdout"
        }
      ]
    },
    {
      "cell_type": "code",
      "metadata": {
        "colab": {
          "base_uri": "https://localhost:8080/",
          "height": 296
        },
        "id": "k_87P1YiUIhu",
        "outputId": "20483521-8a51-462d-ba2c-2dc762c4119e"
      },
      "source": [
        "import numpy as np\n",
        "import matplotlib.pyplot as plt\n",
        "\n",
        "max_depth_list = [1,2,3,4,5]\n",
        "\n",
        "train_accuracy = [] # Log training errors for each model\n",
        "test_accuracy = [] # Log testing errors for each model\n",
        "\n",
        "for x in max_depth_list:\n",
        "    dtc = DecisionTreeClassifier(max_depth=x) \n",
        "    dtc.fit(train_x,train_y)\n",
        "    train_z = dtc.predict(train_x)\n",
        "    test_z = dtc.predict(test_x)\n",
        "    train_accuracy.append(accuracy_score(train_y, train_z))\n",
        "    test_accuracy.append(accuracy_score(test_y, test_z))\n",
        "\n",
        "x = np.arange(len(max_depth_list)) + 1  # Create domain for plot\n",
        "plt.plot(x, train_accuracy, label='Train Accuracy') # Plot training accuracy over domain\n",
        "plt.plot(x, test_accuracy, label='Test Accuracy') # Plot testing accuracy over domain\n",
        "plt.xlabel('Maximum Depth') # Label x-axis\n",
        "plt.ylabel('Total Accuracy') # Label y-axis\n",
        "plt.legend() # Show plot labels as legend\n",
        "plt.plot() # Show graph\n",
        "\n",
        "\n",
        "# We can see that the test accuracy stops increasing beyond a max depth of 3 while training accuracy kept increasing until 4 \n",
        "#and becomes constant after that as the model achieves the max accuracy of 100% on training data."
      ],
      "execution_count": null,
      "outputs": [
        {
          "output_type": "execute_result",
          "data": {
            "text/plain": [
              "[]"
            ]
          },
          "metadata": {
            "tags": []
          },
          "execution_count": 10
        },
        {
          "output_type": "display_data",
          "data": {
            "image/png": "[encoded data removed]",
            "text/plain": [
              "<Figure size 432x288 with 1 Axes>"
            ]
          },
          "metadata": {
            "tags": [],
            "needs_background": "light"
          }
        }
      ]
    },
    {
      "cell_type": "markdown",
      "metadata": {
        "id": "2iaLr1ufhs20"
      },
      "source": [
        "#### Fine-tune the decision tree classifier\n",
        "\n",
        "Decision tree is a very powerful model with very few assumptions about the incoming training data (unlike linear models, which assume the data linear), however, it is more likely to overfit the data and won't generalize well to unseen data. To void overfitting, we need to restrict the decision tree's freedom during training via regularization (e.g. max_depth, min_sample_split, max_leaf_nodes and etc.).\n",
        "\n",
        "To fine-tune the model and combat overfitting, use grid search with cross-validation (with the help of the GridSearchCV class) to find the best hyper-parameter settings for the DecisionTreeClassifier. In particular, we would like to fine-tune the following hyper-parameters:\n",
        "- **criteria**: this defines how we measure the quality of a split. we can choose either \"gini\" for the Gini impurity or \"entropy\" for the information gain.\n",
        "- **max_depth**: the maximum depth of the tree. This indicates how deep the tree can be. The deeper the tree, the more splits it has and it captures more information about the data. But meanwhile, deeper trees are more likely to overfit the data. For this practice, we will choose from {1, 2, 3} given there are only 4 features in the iris dataset.\n",
        "- **min_samples_split**: This value represents the minimum number of samples required to split an internal node. The smaller this value is, the deeper the tree will grow, thus more likely to overfit. On the other hand, if the value is really large (the size of the training data in the extreme case), the tree will be very shallow and could suffer from underfit. In this practice, we choose from {0.01, 0.05, 0.1, 0.2}.\n",
        "\n",
        "<span style=\"color:orange\">**Use grid search with 3-fold cross-validation to fine-tune the decision tree model and output the best hyper-parameters.**"
      ]
    },
    {
      "cell_type": "code",
      "metadata": {
        "id": "9fuI5TWkhs21",
        "colab": {
          "base_uri": "https://localhost:8080/"
        },
        "outputId": "5f9b9577-1479-4a64-9f57-b74593651bd4"
      },
      "source": [
        "# TODO: fine-tune the model, use grid search with 3-fold cross-validation.\n",
        "\n",
        "parameters = {\n",
        "    'criterion':['entropy','gini'],\n",
        "    \"max_depth\": [1,2,3], \n",
        "    \"min_samples_split\": [.01,0.05, 0.1, 0.2]\n",
        "}\n",
        "\n",
        "dt = DecisionTreeClassifier()\n",
        "grid = GridSearchCV(dt, parameters, cv=3)\n",
        "grid.fit(train_x, train_y)\n",
        "\n",
        "# summarize the results of the grid search\n",
        "print(\"The best score is {}\".format(grid.best_score_))\n",
        "print(\"The best hyper parameter setting is {}\".format(grid.best_params_))"
      ],
      "execution_count": null,
      "outputs": [
        {
          "output_type": "stream",
          "text": [
            "The best score is 0.9619047619047619\n",
            "The best hyper parameter setting is {'criterion': 'gini', 'max_depth': 3, 'min_samples_split': 0.01}\n"
          ],
          "name": "stdout"
        }
      ]
    },
    {
      "cell_type": "markdown",
      "metadata": {
        "id": "ZXeHA4TThs24"
      },
      "source": [
        "#### Prediction and Evaluation\n",
        "\n",
        "Now we have a fine-tuned decision tree classifier based on the training data, let's apply this model to make predictions on the test data and evaluate its performance."
      ]
    },
    {
      "cell_type": "code",
      "metadata": {
        "id": "pzGEUWFPhs24",
        "colab": {
          "base_uri": "https://localhost:8080/"
        },
        "outputId": "44488c7b-34bd-46ab-b357-520f1593fb3f"
      },
      "source": [
        "#grid.predict(test_x)\n",
        "# make prediction and evaluate the model performance on test data\n",
        "test_z = grid.predict(test_x)\n",
        "test_z_prob = grid.predict_proba(test_x)[:,:]\n",
        "test_z_prob\n",
        "\n",
        "print(\"model accuracy: {}\".format(accuracy_score(test_y, test_z)))\n",
        "print(\"model confusion matrix:\\n {}\".format(confusion_matrix(test_y, test_z, labels=['Iris-setosa', 'Iris-versicolor', 'Iris-virginica'])))\n",
        "print(\"model ROC AUC: {}\".format(roc_auc_score(test_y, test_z_prob,multi_class=\"ovr\")))"
      ],
      "execution_count": null,
      "outputs": [
        {
          "output_type": "stream",
          "text": [
            "model accuracy: 0.9777777777777777\n",
            "model confusion matrix:\n",
            " [[16  0  0]\n",
            " [ 0 17  1]\n",
            " [ 0  0 11]]\n",
            "model ROC AUC: 0.983473074976343\n"
          ],
          "name": "stdout"
        }
      ]
    },
    {
      "cell_type": "markdown",
      "metadata": {
        "id": "W6mCqDRB1ZYV"
      },
      "source": [
        "We see that the model accuracy has improved with the hyperparamter tuning from 91% to 97.7%."
      ]
    },
    {
      "cell_type": "markdown",
      "metadata": {
        "id": "fLrLCXpbIHI2"
      },
      "source": [
        "### Random Forest\n",
        "\n",
        "**Apply Random Forest together with Gridsearch to the Iris dataset and evaluate its accuracy.**"
      ]
    },
    {
      "cell_type": "code",
      "metadata": {
        "id": "UTzDdKnoIDM1",
        "colab": {
          "base_uri": "https://localhost:8080/"
        },
        "outputId": "3853ec7f-4e96-4a4f-d2b8-5e32b666f153"
      },
      "source": [
        "\n",
        "# TODO: fine-tune Random Forest classifier using grid search with cross-validation (GridSearchCV).\n",
        "parameters = {\n",
        "    'criterion':['entropy','gini'],\n",
        "    \"n_estimators\": [20, 40],\n",
        "    \"max_depth\": [1,2,3], \n",
        "    \"min_samples_split\": [.01,0.05, 0.1,0.2]\n",
        "}\n",
        "\n",
        "rfc_grid = GridSearchCV(RandomForestClassifier(n_jobs=-1, random_state=0), parameters, cv=3)\n",
        "rfc_grid.fit(train_x, train_y)\n",
        "\n",
        "# summarize the results of the grid search\n",
        "print(\"The best score is {}\".format(rfc_grid.best_score_))\n",
        "print(\"The best hyper parameter setting is {}\".format(rfc_grid.best_params_))"
      ],
      "execution_count": null,
      "outputs": [
        {
          "output_type": "stream",
          "text": [
            "The best score is 0.9619047619047619\n",
            "The best hyper parameter setting is {'criterion': 'gini', 'max_depth': 2, 'min_samples_split': 0.01, 'n_estimators': 40}\n"
          ],
          "name": "stdout"
        }
      ]
    },
    {
      "cell_type": "code",
      "metadata": {
        "colab": {
          "base_uri": "https://localhost:8080/"
        },
        "id": "jqMo3Ufdgghd",
        "outputId": "ac764ab4-3a82-415b-eadc-5e83801667da"
      },
      "source": [
        "# TODO: make prediction and evaluate the model performance on test data\n",
        "test_z = rfc_grid.predict(test_x)\n",
        "test_z_prob = rfc_grid.predict_proba(test_x)[:,:]\n",
        "\n",
        "print(\"model accuracy: {}\".format(accuracy_score(test_y, test_z)))\n",
        "print(\"model ROC AUC: {}\".format(roc_auc_score(test_y, test_z_prob,multi_class=\"ovr\")))\n"
      ],
      "execution_count": null,
      "outputs": [
        {
          "output_type": "stream",
          "text": [
            "model accuracy: 0.9555555555555556\n",
            "model ROC AUC: 0.9936914533864426\n"
          ],
          "name": "stdout"
        }
      ]
    },
    {
      "cell_type": "markdown",
      "metadata": {
        "id": "95p7pKg916tA"
      },
      "source": [
        "Model roc has improved from .98 to .99"
      ]
    },
    {
      "cell_type": "markdown",
      "metadata": {
        "id": "VKgNC7kzIWNC"
      },
      "source": [
        "### Adaboost\n",
        "\n",
        "**Apply Adaboost together with Gridsearch to the Iris dataset and evaluate its accuracy.**"
      ]
    },
    {
      "cell_type": "code",
      "metadata": {
        "id": "hDcP-xy_IXFF",
        "colab": {
          "base_uri": "https://localhost:8080/"
        },
        "outputId": "b313b344-3713-4a03-916a-eb7fd71f711a"
      },
      "source": [
        "### TODO \n",
        "parameters = {\n",
        "    \"n_estimators\": [20, 40],\n",
        "    \"learning_rate\": [0.01, 0.1, 1, 10]\n",
        "}\n",
        "\n",
        "adaboost = AdaBoostClassifier(DecisionTreeClassifier(max_depth=3), random_state=0)\n",
        "adaboost_grid = GridSearchCV(adaboost, parameters, cv=3)\n",
        "adaboost_grid.fit(train_x, train_y)\n",
        "\n",
        "# summarize the results of the grid search\n",
        "print(\"The best score is {}\".format(adaboost_grid.best_score_))\n",
        "print(\"The best hyper parameter setting is {}\".format(adaboost_grid.best_params_))\n"
      ],
      "execution_count": null,
      "outputs": [
        {
          "output_type": "stream",
          "text": [
            "The best score is 0.9619047619047619\n",
            "The best hyper parameter setting is {'learning_rate': 0.1, 'n_estimators': 20}\n"
          ],
          "name": "stdout"
        }
      ]
    },
    {
      "cell_type": "code",
      "metadata": {
        "colab": {
          "base_uri": "https://localhost:8080/"
        },
        "id": "l3yCXB-phjf5",
        "outputId": "d92df013-e748-46f2-8f92-43b1a98ef277"
      },
      "source": [
        "test_z = adaboost_grid.predict(test_x)\n",
        "test_z_prob = adaboost_grid.predict_proba(test_x)[:,:]\n",
        "\n",
        "print(\"model accuracy: {}\".format(accuracy_score(test_y, test_z)))\n",
        "print(\"model ROC AUC: {}\".format(roc_auc_score(test_y, test_z_prob,multi_class=\"ovr\")))\n"
      ],
      "execution_count": null,
      "outputs": [
        {
          "output_type": "stream",
          "text": [
            "model accuracy: 0.9777777777777777\n",
            "model ROC AUC: 0.9936914533864426\n"
          ],
          "name": "stdout"
        }
      ]
    },
    {
      "cell_type": "markdown",
      "metadata": {
        "id": "G2J55rxs2DkH"
      },
      "source": [
        "Model ROC AUC has further improved from .99 to .9937"
      ]
    },
    {
      "cell_type": "markdown",
      "metadata": {
        "id": "tpZFN60NIWdK"
      },
      "source": [
        "### Gradient Boosting\n",
        "\n",
        "**Apply Boosting together with Gridsearch to the Iris dataset and evaluate its accuracy.**"
      ]
    },
    {
      "cell_type": "code",
      "metadata": {
        "id": "mmRcvEkSIXrR",
        "colab": {
          "base_uri": "https://localhost:8080/"
        },
        "outputId": "205acc07-d4ac-4633-f46d-f36844e0afa2"
      },
      "source": [
        "### TODO fine-tune Gradient Boosted Trees using grid search with cross-validation (GridSearchCV).\n",
        "parameters = {\n",
        "    \"loss\":[\"deviance\"],\n",
        "    \"learning_rate\": [0.01, 0.1],\n",
        "    \"min_samples_split\": [0.05, 0.1, 0.2],\n",
        "    \"max_depth\":[1,2,3,4],\n",
        "    \"n_estimators\":[100]\n",
        "}\n",
        "\n",
        "gbc_grid = GridSearchCV(GradientBoostingClassifier(), parameters, cv=3, n_jobs=-1)\n",
        "gbc_grid.fit(train_x, train_y)\n",
        "\n",
        "# summarize the results of the grid search\n",
        "print(\"The best score is {}\".format(gbc_grid.best_score_))\n",
        "print(\"The best hyper parameter setting is {}\".format(gbc_grid.best_params_))\n",
        "\n"
      ],
      "execution_count": null,
      "outputs": [
        {
          "output_type": "stream",
          "text": [
            "The best score is 0.9619047619047619\n",
            "The best hyper parameter setting is {'learning_rate': 0.1, 'loss': 'deviance', 'max_depth': 1, 'min_samples_split': 0.05, 'n_estimators': 100}\n"
          ],
          "name": "stdout"
        }
      ]
    },
    {
      "cell_type": "code",
      "metadata": {
        "colab": {
          "base_uri": "https://localhost:8080/"
        },
        "id": "Zn1tlK89iDPK",
        "outputId": "ea7ad1a1-c3d2-4c13-b8ef-d028dc87ece1"
      },
      "source": [
        "# TODO: make prediction and evaluate the model performance on test data\n",
        "test_z = gbc_grid.predict(test_x)\n",
        "test_z_prob = gbc_grid.predict_proba(test_x)[:,:]\n",
        "\n",
        "test_z_prob\n",
        "print(\"model accuracy: {}\".format(accuracy_score(test_y, test_z)))\n",
        "print(\"model ROC AUC: {}\".format(roc_auc_score(test_y, test_z_prob,multi_class=\"ovr\")))"
      ],
      "execution_count": null,
      "outputs": [
        {
          "output_type": "stream",
          "text": [
            "model accuracy: 0.9777777777777777\n",
            "model ROC AUC: 0.9936914533864426\n"
          ],
          "name": "stdout"
        }
      ]
    },
    {
      "cell_type": "markdown",
      "metadata": {
        "id": "72fS15OW2ZRV"
      },
      "source": [
        "There is no change in accuracy and ROC AUC. Probably because the dataset is very simple."
      ]
    },
    {
      "cell_type": "markdown",
      "metadata": {
        "id": "oyoZxHnxHknE"
      },
      "source": [
        "**Predict the California housing prices using supervised learning models**"
      ]
    },
    {
      "cell_type": "markdown",
      "metadata": {
        "id": "3odrweXdhs28"
      },
      "source": [
        "## California Housing Dataset\n",
        "\n",
        "The California Housing dataset appeared in a 1997 paper titled Sparse Spatial Autoregressions by Pace, R. Kelley and Ronald Barry, published in the Statistics and Probability Letters journal. They built it using the 1990 California census data. It contains one row per census block group. A block group is the smallest geographical unit for which the U.S. Census Bureau publishes sample data (a block group typically has a population of 600 to 3,000 people). "
      ]
    },
    {
      "cell_type": "code",
      "metadata": {
        "id": "d_rNSjtnyYxT"
      },
      "source": [
        "from sklearn.preprocessing import StandardScaler\n",
        "from sklearn.linear_model import LinearRegression"
      ],
      "execution_count": null,
      "outputs": []
    },
    {
      "cell_type": "code",
      "metadata": {
        "id": "8zXK2RFshs29"
      },
      "source": [
        "# Load train and test data from CSV files.\n",
        "train = pd.read_csv('https://raw.githubusercontent.com/zariable/data/master/housing_train.csv')\n",
        "test = pd.read_csv('https://raw.githubusercontent.com/zariable/data/master/housing_test.csv')\n",
        "\n",
        "train_x = train.iloc[:,0:8]\n",
        "train_y = train.iloc[:,8]\n",
        "\n",
        "test_x = test.iloc[:,0:8]\n",
        "test_y = test.iloc[:,8]\n",
        "\n"
      ],
      "execution_count": null,
      "outputs": []
    },
    {
      "cell_type": "code",
      "metadata": {
        "colab": {
          "base_uri": "https://localhost:8080/"
        },
        "id": "O9WmGGemwd87",
        "outputId": "9b9ebe55-5c7b-4569-e45f-5d938a3440cd"
      },
      "source": [
        "#check wheather there are any missing values or null\n",
        "test.isnull().sum()\n",
        "train.isnull().sum()\n",
        "#no missing value found"
      ],
      "execution_count": null,
      "outputs": [
        {
          "output_type": "execute_result",
          "data": {
            "text/plain": [
              "longitude             0\n",
              "latitude              0\n",
              "housing_median_age    0\n",
              "total_rooms           0\n",
              "total_bedrooms        0\n",
              "population            0\n",
              "households            0\n",
              "median_income         0\n",
              "median_house_value    0\n",
              "dtype: int64"
            ]
          },
          "metadata": {
            "tags": []
          },
          "execution_count": 19
        }
      ]
    },
    {
      "cell_type": "code",
      "metadata": {
        "colab": {
          "base_uri": "https://localhost:8080/",
          "height": 572
        },
        "id": "l95GYUMdxM0s",
        "outputId": "2a642bda-1811-4c68-a319-0f797063d781"
      },
      "source": [
        "#heatmap using seaborn\n",
        "#set the context for plotting \n",
        "sns.set(context=\"paper\",font=\"monospace\")\n",
        "train_corr_matrix = train.corr()\n",
        "#set the matplotlib figure\n",
        "fig, axe = plt.subplots(figsize=(12,8))\n",
        "#Generate color palettes \n",
        "cmap = sns.diverging_palette(220,10,center = \"light\", as_cmap=True)\n",
        "#draw the heatmap\n",
        "sns.heatmap(train_corr_matrix,vmax=1,square =True, cmap=cmap,annot=True );\n",
        "\n",
        "\n"
      ],
      "execution_count": null,
      "outputs": [
        {
          "output_type": "display_data",
          "data": {
            "image/png": "[encoded data removed]",
            "text/plain": [
              "<Figure size 864x576 with 2 Axes>"
            ]
          },
          "metadata": {
            "tags": []
          }
        }
      ]
    },
    {
      "cell_type": "markdown",
      "metadata": {
        "id": "gIRclZrx2r6K"
      },
      "source": [
        "Median income has the highest positive correlation with the median_house_value"
      ]
    },
    {
      "cell_type": "code",
      "metadata": {
        "colab": {
          "base_uri": "https://localhost:8080/"
        },
        "id": "XBHyFZgX34cy",
        "outputId": "164430d0-da48-479d-8b02-8682e7610444"
      },
      "source": [
        "#Standardize training and test datasets.\n",
        "#==============================================================================\n",
        "# Feature scaling is to bring all the independent variables in a dataset into\n",
        "# same scale, to avoid any variable dominating  the model. Here we will not \n",
        "# transform the target variables.\n",
        "#==============================================================================\n",
        "independent_scaler = StandardScaler()\n",
        "train_x = independent_scaler.fit_transform(train_x)\n",
        "test_x = independent_scaler.transform(test_x)\n",
        "print(train_x[0:9,:])\n",
        "print(\"test data\")\n",
        "print(test_x[0:5,:])"
      ],
      "execution_count": null,
      "outputs": [
        {
          "output_type": "stream",
          "text": [
            "[[-0.11131397  0.51396387  1.8562098  -1.15358908 -1.21043117 -1.07186955\n",
            "  -1.1994956  -1.00030408]\n",
            " [-1.3173838   0.99993462  1.14171192 -0.74063681 -0.49877147 -0.51251556\n",
            "  -0.58083415 -0.84938602]\n",
            " [ 0.76084397 -0.82245571 -0.92239307 -0.12873738 -0.33746194 -0.03319355\n",
            "  -0.35373059  1.28620508]\n",
            " [ 0.64123373 -0.73367259 -0.92239307 -0.05572925  1.56029727  1.41434152\n",
            "   1.3064748  -1.13519966]\n",
            " [-0.12128149  0.51396387  1.6974325  -0.85243052 -0.81664613 -0.71259552\n",
            "  -0.8679766  -0.87043206]\n",
            " [ 0.88543796 -0.85516528 -1.39872499  3.60243463  2.56610965  2.59568324\n",
            "   2.93013479  1.48238799]\n",
            " [ 0.8804542  -0.85049248 -1.16055903 -0.65439595 -0.94000048 -0.74217256\n",
            "  -0.91496354  2.63357449]\n",
            " [-0.84392663  1.42983183 -0.92239307  0.58263564  0.23661022  0.3339097\n",
            "   0.16834658  0.73604686]\n",
            " [ 0.95521059 -1.00469474 -1.79566826 -0.45727399 -0.83087933 -0.74217256\n",
            "  -0.8497039   4.85620523]]\n",
            "test data\n",
            "[[ 1.25423617 -1.42524636 -0.5254498  -0.2460067  -0.33034534  0.10947217\n",
            "  -0.33545789  0.15077666]\n",
            " [ 0.79573028 -0.79909173  0.26843673 -0.00918656 -0.33271754 -0.11235562\n",
            "  -0.18405551  1.01154901]\n",
            " [-1.13298469  1.41114065  0.03027077  0.24041     0.02311231  0.11208191\n",
            "   0.090035    0.25489638]\n",
            " [ 1.97688131 -1.13553302  0.66538    -0.88117747 -0.83325153 -0.90049671\n",
            "  -0.93323624 -0.74854483]\n",
            " [-1.42702651  1.00928022 -0.28728384 -0.45773029 -0.34220633 -0.67518927\n",
            "  -0.3145748   0.60189159]]\n"
          ],
          "name": "stdout"
        }
      ]
    },
    {
      "cell_type": "code",
      "metadata": {
        "colab": {
          "base_uri": "https://localhost:8080/"
        },
        "id": "NaSoiQ-SxrbH",
        "outputId": "9f178d86-d673-40a0-e415-577d454978c9"
      },
      "source": [
        "#Perform the linear regression\n",
        "linearRegModel = LinearRegression(n_jobs=-1)\n",
        "#fit the model to the training data (learn the coefficients)\n",
        "linearRegModel.fit(train_x,train_y)\n",
        "#print the intercept and coefficients \n",
        "print(\"Intercept is \"+str(linearRegModel.intercept_))\n",
        "print(\"coefficients  are \"+str(linearRegModel.coef_))"
      ],
      "execution_count": null,
      "outputs": [
        {
          "output_type": "stream",
          "text": [
            "Intercept is 206824.6245155046\n",
            "coefficients  are [-85700.02589188 -90565.73473155  14601.5831519  -15915.15169082\n",
            "  38541.14412214 -42000.86140876  23706.94135369  76367.30144222]\n"
          ],
          "name": "stdout"
        }
      ]
    },
    {
      "cell_type": "code",
      "metadata": {
        "colab": {
          "base_uri": "https://localhost:8080/"
        },
        "id": "a8wiKcXOymfC",
        "outputId": "2520746f-ea7a-4e8e-e4db-46aba0eda4bc"
      },
      "source": [
        "#predict on the test data\n",
        "test_z = linearRegModel.predict(test_x)\n",
        "#calculate rmse for test data\n",
        "rmse=np.sqrt(mean_squared_error(test_y,test_z))\n",
        "\n",
        "print(\"model error: {}\".format(rmse))"
      ],
      "execution_count": null,
      "outputs": [
        {
          "output_type": "stream",
          "text": [
            "model error: 70378.20703261041\n"
          ],
          "name": "stdout"
        }
      ]
    },
    {
      "cell_type": "code",
      "metadata": {
        "colab": {
          "base_uri": "https://localhost:8080/"
        },
        "id": "6De3bYRA4v4j",
        "outputId": "5e8c62ff-36f1-4837-9515-c9efde049b8f"
      },
      "source": [
        "print(test_z[0:5])\n",
        "print(test_y[0:5])"
      ],
      "execution_count": null,
      "outputs": [
        {
          "output_type": "stream",
          "text": [
            "[210889.78468952 279848.24821957 190519.73328147  90404.54665014\n",
            " 294481.41479892]\n",
            "0    136900.0\n",
            "1    241300.0\n",
            "2    200700.0\n",
            "3     72500.0\n",
            "4    460000.0\n",
            "Name: median_house_value, dtype: float64\n"
          ],
          "name": "stdout"
        }
      ]
    },
    {
      "cell_type": "code",
      "metadata": {
        "colab": {
          "base_uri": "https://localhost:8080/"
        },
        "id": "FCEC_3gkrTJg",
        "outputId": "0c08a706-5e01-4645-b218-520b0ddf68a6"
      },
      "source": [
        "# Build Decision Tree regressor\n",
        "parameters = {\n",
        "    \"max_depth\": [2,4,8,10], \n",
        "    \"min_samples_split\": [.01,0.05, 0.1, 0.2]\n",
        "}\n",
        "\n",
        "dtr = DecisionTreeRegressor()\n",
        "dtr_grid = GridSearchCV(dtr, parameters, cv=3)\n",
        "dtr_grid.fit(train_x, train_y)\n",
        "\n",
        "# summarize the results of the grid search\n",
        "print(\"The best score is {}\".format(dtr_grid.best_score_))\n",
        "print(\"The best hyper parameter setting is {}\".format(dtr_grid.best_params_))"
      ],
      "execution_count": null,
      "outputs": [
        {
          "output_type": "stream",
          "text": [
            "The best score is 0.6962972916881611\n",
            "The best hyper parameter setting is {'max_depth': 10, 'min_samples_split': 0.01}\n"
          ],
          "name": "stdout"
        }
      ]
    },
    {
      "cell_type": "code",
      "metadata": {
        "colab": {
          "base_uri": "https://localhost:8080/"
        },
        "id": "CGuMyy8UpSAw",
        "outputId": "6eeaff7d-b15e-41e0-b0e9-e0ac27ce3c07"
      },
      "source": [
        "#make prediction and evaluate the model performance on test data\n",
        "test_z = dtr_grid.predict(test_x)\n",
        "rmse=np.sqrt(mean_squared_error(test_y, test_z))\n",
        "\n",
        "print(\"model error: {}\".format(rmse))"
      ],
      "execution_count": null,
      "outputs": [
        {
          "output_type": "stream",
          "text": [
            "model error: 63080.45386181574\n"
          ],
          "name": "stdout"
        }
      ]
    },
    {
      "cell_type": "markdown",
      "metadata": {
        "id": "gGL5Ge3G3C81"
      },
      "source": [
        "Model error has reduced with decision tree regressor as compared to linear regression."
      ]
    },
    {
      "cell_type": "code",
      "metadata": {
        "colab": {
          "base_uri": "https://localhost:8080/"
        },
        "id": "1XCrjdMUt5FB",
        "outputId": "52fa2a29-c168-475b-bf81-ce53497b57da"
      },
      "source": [
        "#fine-tune Random Forest regressor using grid search with cross-validation (GridSearchCV).\n",
        "parameters = {\n",
        "    \"n_estimators\": [20,40],\n",
        "    \"max_depth\": [8,10], \n",
        "    \"min_samples_split\": [.01,0.05,0.1,0.2]\n",
        "}\n",
        "\n",
        "rfr_grid = GridSearchCV(RandomForestRegressor(n_jobs=-1, random_state=0), parameters, cv=3)\n",
        "rfr_grid.fit(train_x, train_y)\n",
        "\n",
        "# summarize the results of the grid search\n",
        "print(\"The best score is {}\".format(rfr_grid.best_score_))\n",
        "print(\"The best hyper parameter setting is {}\".format(rfr_grid.best_params_))"
      ],
      "execution_count": null,
      "outputs": [
        {
          "output_type": "stream",
          "text": [
            "The best score is 0.7379489568071637\n",
            "The best hyper parameter setting is {'max_depth': 10, 'min_samples_split': 0.01, 'n_estimators': 40}\n"
          ],
          "name": "stdout"
        }
      ]
    },
    {
      "cell_type": "code",
      "metadata": {
        "colab": {
          "base_uri": "https://localhost:8080/"
        },
        "id": "yCsw-SMu0E3I",
        "outputId": "d9939b46-c1ed-4ffa-998e-c37e73b7c2fb"
      },
      "source": [
        "# make prediction and evaluate the model performance on test data\n",
        "test_z = rfr_grid.predict(test_x)\n",
        "rmse=np.sqrt(mean_squared_error(test_y, test_z))\n",
        "\n",
        "print(\"model error: {}\".format(rmse))\n",
        "\n"
      ],
      "execution_count": null,
      "outputs": [
        {
          "output_type": "stream",
          "text": [
            "model error: 60102.24722163599\n"
          ],
          "name": "stdout"
        }
      ]
    },
    {
      "cell_type": "markdown",
      "metadata": {
        "id": "ZKuZdIK63Pnd"
      },
      "source": [
        "Model error has further reduced with random forest regressor."
      ]
    },
    {
      "cell_type": "code",
      "metadata": {
        "colab": {
          "base_uri": "https://localhost:8080/"
        },
        "id": "4VthUfPr9PHy",
        "outputId": "8838204b-d0cf-4cf9-b241-9ee43de6e606"
      },
      "source": [
        "#fine tune adaboost\n",
        "parameters = {\n",
        "    \"n_estimators\": [20,40],\n",
        "    \"learning_rate\": [0.01, 0.1, 1, 10]\n",
        "}\n",
        "\n",
        "adaboost = AdaBoostRegressor(DecisionTreeRegressor(max_depth=10), random_state=0)\n",
        "adaboost_grid = GridSearchCV(adaboost, parameters, cv=3)\n",
        "adaboost_grid.fit(train_x, train_y)\n",
        "\n",
        "# summarize the results of the grid search\n",
        "print(\"The best score is {}\".format(adaboost_grid.best_score_))\n",
        "print(\"The best hyper parameter setting is {}\".format(adaboost_grid.best_params_))"
      ],
      "execution_count": null,
      "outputs": [
        {
          "output_type": "stream",
          "text": [
            "The best score is 0.7966242038033132\n",
            "The best hyper parameter setting is {'learning_rate': 1, 'n_estimators': 40}\n"
          ],
          "name": "stdout"
        }
      ]
    },
    {
      "cell_type": "code",
      "metadata": {
        "colab": {
          "base_uri": "https://localhost:8080/"
        },
        "id": "skoqPzao9vPU",
        "outputId": "3e861e12-476b-4003-b2ad-54df16ddc1f2"
      },
      "source": [
        "#make prediction and evaluate the model performance on test data\n",
        "test_z = adaboost_grid.predict(test_x)\n",
        "rmse=np.sqrt(mean_squared_error(test_y, test_z))\n",
        "\n",
        "print(\"model error: {}\".format(rmse))\n",
        "\n"
      ],
      "execution_count": null,
      "outputs": [
        {
          "output_type": "stream",
          "text": [
            "model error: 51944.31085837195\n"
          ],
          "name": "stdout"
        }
      ]
    },
    {
      "cell_type": "markdown",
      "metadata": {
        "id": "4ya4EUzy3hBl"
      },
      "source": [
        "There is a further improvement in prediction with the adaboost."
      ]
    },
    {
      "cell_type": "code",
      "metadata": {
        "colab": {
          "base_uri": "https://localhost:8080/"
        },
        "id": "ozK08B569_pI",
        "outputId": "150da7c4-1c65-4779-b363-c6297e0e9ca5"
      },
      "source": [
        "# TODO: fine-tune Gradient Boosted Trees using grid search with cross-validation (GridSearchCV).\n",
        "parameters = {\n",
        "    \"loss\":[\"ls\"],\n",
        "    \"learning_rate\": [0.01, 0.1],\n",
        "    \"min_samples_split\": [0.01,0.05],\n",
        "    \"max_depth\":[8,10],\n",
        "    \"n_estimators\":[100]\n",
        "}\n",
        "\n",
        "gbr_grid = GridSearchCV(GradientBoostingRegressor(), parameters, cv=3, n_jobs=-1)\n",
        "gbr_grid.fit(train_x, train_y)\n",
        "\n",
        "# summarize the results of the grid search\n",
        "print(\"The best score is {}\".format(gbc_grid.best_score_))\n",
        "print(\"The best hyper parameter setting is {}\".format(gbc_grid.best_params_))"
      ],
      "execution_count": null,
      "outputs": [
        {
          "output_type": "stream",
          "text": [
            "The best score is 0.9619047619047619\n",
            "The best hyper parameter setting is {'learning_rate': 0.1, 'loss': 'deviance', 'max_depth': 1, 'min_samples_split': 0.05, 'n_estimators': 100}\n"
          ],
          "name": "stdout"
        }
      ]
    },
    {
      "cell_type": "code",
      "metadata": {
        "colab": {
          "base_uri": "https://localhost:8080/"
        },
        "id": "1NnjIySe-DYW",
        "outputId": "4257dee0-9ed2-4e7f-a37c-5f6465efb80c"
      },
      "source": [
        "# TODO: make prediction and evaluate the model performance on test data\n",
        "test_z = gbr_grid.predict(test_x)\n",
        "\n",
        "rmse=np.sqrt(mean_squared_error(test_y, test_z))\n",
        "\n",
        "print(\"model error: {}\".format(rmse))"
      ],
      "execution_count": null,
      "outputs": [
        {
          "output_type": "stream",
          "text": [
            "model error: 47939.569449753704\n"
          ],
          "name": "stdout"
        }
      ]
    },
    {
      "cell_type": "markdown",
      "metadata": {
        "id": "jqRHru2T4AQw"
      },
      "source": [
        "Gradient boosting has reduced the model error significantly."
      ]
    },
    {
      "cell_type": "code",
      "metadata": {
        "colab": {
          "base_uri": "https://localhost:8080/"
        },
        "id": "HKEQKe2eSooN",
        "outputId": "f73d5656-39dc-4a78-8894-88fb05b772d6"
      },
      "source": [
        "# print predicted values\n",
        "test_z"
      ],
      "execution_count": null,
      "outputs": [
        {
          "output_type": "execute_result",
          "data": {
            "text/plain": [
              "array([141829.56712913, 244033.29644221, 143822.14195199, ...,\n",
              "       425675.83069892,  64668.97280066, 266190.22938468])"
            ]
          },
          "metadata": {
            "tags": []
          },
          "execution_count": 33
        }
      ]
    },
    {
      "cell_type": "code",
      "metadata": {
        "colab": {
          "base_uri": "https://localhost:8080/"
        },
        "id": "9heikSwoSvjS",
        "outputId": "02b85b99-f3e4-4320-ae2a-547ccb8060c6"
      },
      "source": [
        "#print actual values\n",
        "test_y"
      ],
      "execution_count": null,
      "outputs": [
        {
          "output_type": "execute_result",
          "data": {
            "text/plain": [
              "0       136900.0\n",
              "1       241300.0\n",
              "2       200700.0\n",
              "3        72500.0\n",
              "4       460000.0\n",
              "          ...   \n",
              "6187     74000.0\n",
              "6188    177300.0\n",
              "6189    351900.0\n",
              "6190     92500.0\n",
              "6191    298300.0\n",
              "Name: median_house_value, Length: 6192, dtype: float64"
            ]
          },
          "metadata": {
            "tags": []
          },
          "execution_count": 34
        }
      ]
    }
  ]
}