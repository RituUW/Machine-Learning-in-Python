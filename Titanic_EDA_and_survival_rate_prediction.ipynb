{
  "nbformat": 4,
  "nbformat_minor": 0,
  "metadata": {
    "kernelspec": {
      "display_name": "Python 3",
      "language": "python",
      "name": "python3"
    },
    "language_info": {
      "codemirror_mode": {
        "name": "ipython",
        "version": 3
      },
      "file_extension": ".py",
      "mimetype": "text/x-python",
      "name": "python",
      "nbconvert_exporter": "python",
      "pygments_lexer": "ipython3",
      "version": "3.6.3"
    },
    "colab": {
      "name": "Titanic EDA and survival rate prediction.ipynb",
      "provenance": [],
      "collapsed_sections": []
    }
  },
  "cells": [
    {
      "cell_type": "markdown",
      "metadata": {
        "id": "_tTHlJ6iM8cJ"
      },
      "source": [
        "# Titanic: Machine Learning from Disaster\n",
        "\n",
        "The sinking of the RMS Titanic is one of the most infamous shipwrecks in history.  On April 15, 1912, during her maiden voyage, the Titanic sank after colliding with an iceberg, killing 1502 out of 2224 passengers and crew. This sensational tragedy shocked the international community and led to better safety regulations for ships.\n",
        "\n",
        "One of the reasons that the shipwreck led to such loss of life was that there were not enough lifeboats for the passengers and crew. Although there was some element of luck involved in surviving the sinking, some groups of people were more likely to survive than others, such as women, children, and the upper-class.\n",
        "\n"
      ]
    },
    {
      "cell_type": "markdown",
      "metadata": {
        "id": "xm7UyiblM8cM"
      },
      "source": [
        "## Using **pandas** to analyze and manipulate the data and **matplotlib** and **seaborn** for data visualization. "
      ]
    },
    {
      "cell_type": "code",
      "metadata": {
        "id": "JSB1D5caM8cN"
      },
      "source": [
        "# importing libraries\n",
        "import os\n",
        "import io\n",
        "import warnings\n",
        "\n",
        "import numpy as np\n",
        "import scipy as sp\n",
        "import pandas as pd\n",
        "import sklearn as sk\n",
        "\n",
        "import matplotlib as mpl\n",
        "import matplotlib.pyplot as plt\n",
        "%matplotlib inline\n",
        "import seaborn as sns\n",
        "sns.set()\n",
        "\n",
        "warnings.simplefilter(action='ignore', category=FutureWarning)"
      ],
      "execution_count": null,
      "outputs": []
    },
    {
      "cell_type": "code",
      "metadata": {
        "id": "iVLifp0IM8cQ",
        "colab": {
          "base_uri": "https://localhost:8080/",
          "height": 204
        },
        "outputId": "dc840263-ebc0-4384-c599-8f02c5b91f2b"
      },
      "source": [
        "# load data\n",
        "titanic = pd.read_csv('https://raw.githubusercontent.com/zariable/data/master/titanic_train.csv')\n",
        "display(titanic.head())"
      ],
      "execution_count": null,
      "outputs": [
        {
          "output_type": "display_data",
          "data": {
            "text/html": [
              "<div>\n",
              "<style scoped>\n",
              "    .dataframe tbody tr th:only-of-type {\n",
              "        vertical-align: middle;\n",
              "    }\n",
              "\n",
              "    .dataframe tbody tr th {\n",
              "        vertical-align: top;\n",
              "    }\n",
              "\n",
              "    .dataframe thead th {\n",
              "        text-align: right;\n",
              "    }\n",
              "</style>\n",
              "<table border=\"1\" class=\"dataframe\">\n",
              "  <thead>\n",
              "    <tr style=\"text-align: right;\">\n",
              "      <th></th>\n",
              "      <th>PassengerId</th>\n",
              "      <th>Survived</th>\n",
              "      <th>Pclass</th>\n",
              "      <th>Name</th>\n",
              "      <th>Sex</th>\n",
              "      <th>Age</th>\n",
              "      <th>SibSp</th>\n",
              "      <th>Parch</th>\n",
              "      <th>Ticket</th>\n",
              "      <th>Fare</th>\n",
              "      <th>Cabin</th>\n",
              "      <th>Embarked</th>\n",
              "    </tr>\n",
              "  </thead>\n",
              "  <tbody>\n",
              "    <tr>\n",
              "      <th>0</th>\n",
              "      <td>1</td>\n",
              "      <td>0</td>\n",
              "      <td>3</td>\n",
              "      <td>Braund, Mr. Owen Harris</td>\n",
              "      <td>male</td>\n",
              "      <td>22.0</td>\n",
              "      <td>1</td>\n",
              "      <td>0</td>\n",
              "      <td>A/5 21171</td>\n",
              "      <td>7.2500</td>\n",
              "      <td>NaN</td>\n",
              "      <td>S</td>\n",
              "    </tr>\n",
              "    <tr>\n",
              "      <th>1</th>\n",
              "      <td>2</td>\n",
              "      <td>1</td>\n",
              "      <td>1</td>\n",
              "      <td>Cumings, Mrs. John Bradley (Florence Briggs Th...</td>\n",
              "      <td>female</td>\n",
              "      <td>38.0</td>\n",
              "      <td>1</td>\n",
              "      <td>0</td>\n",
              "      <td>PC 17599</td>\n",
              "      <td>71.2833</td>\n",
              "      <td>C85</td>\n",
              "      <td>C</td>\n",
              "    </tr>\n",
              "    <tr>\n",
              "      <th>2</th>\n",
              "      <td>3</td>\n",
              "      <td>1</td>\n",
              "      <td>3</td>\n",
              "      <td>Heikkinen, Miss. Laina</td>\n",
              "      <td>female</td>\n",
              "      <td>26.0</td>\n",
              "      <td>0</td>\n",
              "      <td>0</td>\n",
              "      <td>STON/O2. 3101282</td>\n",
              "      <td>7.9250</td>\n",
              "      <td>NaN</td>\n",
              "      <td>S</td>\n",
              "    </tr>\n",
              "    <tr>\n",
              "      <th>3</th>\n",
              "      <td>4</td>\n",
              "      <td>1</td>\n",
              "      <td>1</td>\n",
              "      <td>Futrelle, Mrs. Jacques Heath (Lily May Peel)</td>\n",
              "      <td>female</td>\n",
              "      <td>35.0</td>\n",
              "      <td>1</td>\n",
              "      <td>0</td>\n",
              "      <td>113803</td>\n",
              "      <td>53.1000</td>\n",
              "      <td>C123</td>\n",
              "      <td>S</td>\n",
              "    </tr>\n",
              "    <tr>\n",
              "      <th>4</th>\n",
              "      <td>5</td>\n",
              "      <td>0</td>\n",
              "      <td>3</td>\n",
              "      <td>Allen, Mr. William Henry</td>\n",
              "      <td>male</td>\n",
              "      <td>35.0</td>\n",
              "      <td>0</td>\n",
              "      <td>0</td>\n",
              "      <td>373450</td>\n",
              "      <td>8.0500</td>\n",
              "      <td>NaN</td>\n",
              "      <td>S</td>\n",
              "    </tr>\n",
              "  </tbody>\n",
              "</table>\n",
              "</div>"
            ],
            "text/plain": [
              "   PassengerId  Survived  Pclass  ...     Fare Cabin  Embarked\n",
              "0            1         0       3  ...   7.2500   NaN         S\n",
              "1            2         1       1  ...  71.2833   C85         C\n",
              "2            3         1       3  ...   7.9250   NaN         S\n",
              "3            4         1       1  ...  53.1000  C123         S\n",
              "4            5         0       3  ...   8.0500   NaN         S\n",
              "\n",
              "[5 rows x 12 columns]"
            ]
          },
          "metadata": {
            "tags": []
          }
        }
      ]
    },
    {
      "cell_type": "markdown",
      "metadata": {
        "id": "vXplTCIeM8cT"
      },
      "source": [
        "## Description of the data set\n",
        "Here's a brief description of each column in the data.\n",
        "\n",
        "- PassengerID: A column added by Kaggle to identify each row and make submissions easier\n",
        "- Survived: Whether the passenger survived or not and the value we are predicting (0=No, 1=Yes)\n",
        "- Pclass: The class of the ticket the passenger purchased (1=1st, 2=2nd, 3=3rd)\n",
        "- Sex: The passenger's sex\n",
        "- Age: The passenger's age in years\n",
        "- SibSp: The number of siblings or spouses the passenger had aboard the Titanic\n",
        "- Parch: The number of parents or children the passenger had aboard the Titanic\n",
        "- Ticket: The passenger's ticket number\n",
        "- Fare: The fare the passenger paid\n",
        "- Cabin: The passenger's cabin number\n",
        "- Embarked: The port where the passenger embarked (C=Cherbourg, Q=Queenstown, S=Southampton)"
      ]
    },
    {
      "cell_type": "code",
      "metadata": {
        "id": "hdmTDZGYM8cT",
        "colab": {
          "base_uri": "https://localhost:8080/",
          "height": 390
        },
        "outputId": "adc4b671-1ea8-4742-8069-604a54e18173"
      },
      "source": [
        "titanic.describe(include='all')"
      ],
      "execution_count": null,
      "outputs": [
        {
          "output_type": "execute_result",
          "data": {
            "text/html": [
              "<div>\n",
              "<style scoped>\n",
              "    .dataframe tbody tr th:only-of-type {\n",
              "        vertical-align: middle;\n",
              "    }\n",
              "\n",
              "    .dataframe tbody tr th {\n",
              "        vertical-align: top;\n",
              "    }\n",
              "\n",
              "    .dataframe thead th {\n",
              "        text-align: right;\n",
              "    }\n",
              "</style>\n",
              "<table border=\"1\" class=\"dataframe\">\n",
              "  <thead>\n",
              "    <tr style=\"text-align: right;\">\n",
              "      <th></th>\n",
              "      <th>PassengerId</th>\n",
              "      <th>Survived</th>\n",
              "      <th>Pclass</th>\n",
              "      <th>Name</th>\n",
              "      <th>Sex</th>\n",
              "      <th>Age</th>\n",
              "      <th>SibSp</th>\n",
              "      <th>Parch</th>\n",
              "      <th>Ticket</th>\n",
              "      <th>Fare</th>\n",
              "      <th>Cabin</th>\n",
              "      <th>Embarked</th>\n",
              "    </tr>\n",
              "  </thead>\n",
              "  <tbody>\n",
              "    <tr>\n",
              "      <th>count</th>\n",
              "      <td>891.000000</td>\n",
              "      <td>891.000000</td>\n",
              "      <td>891.000000</td>\n",
              "      <td>891</td>\n",
              "      <td>891</td>\n",
              "      <td>714.000000</td>\n",
              "      <td>891.000000</td>\n",
              "      <td>891.000000</td>\n",
              "      <td>891</td>\n",
              "      <td>891.000000</td>\n",
              "      <td>204</td>\n",
              "      <td>889</td>\n",
              "    </tr>\n",
              "    <tr>\n",
              "      <th>unique</th>\n",
              "      <td>NaN</td>\n",
              "      <td>NaN</td>\n",
              "      <td>NaN</td>\n",
              "      <td>891</td>\n",
              "      <td>2</td>\n",
              "      <td>NaN</td>\n",
              "      <td>NaN</td>\n",
              "      <td>NaN</td>\n",
              "      <td>681</td>\n",
              "      <td>NaN</td>\n",
              "      <td>147</td>\n",
              "      <td>3</td>\n",
              "    </tr>\n",
              "    <tr>\n",
              "      <th>top</th>\n",
              "      <td>NaN</td>\n",
              "      <td>NaN</td>\n",
              "      <td>NaN</td>\n",
              "      <td>Betros, Mr. Tannous</td>\n",
              "      <td>male</td>\n",
              "      <td>NaN</td>\n",
              "      <td>NaN</td>\n",
              "      <td>NaN</td>\n",
              "      <td>CA. 2343</td>\n",
              "      <td>NaN</td>\n",
              "      <td>G6</td>\n",
              "      <td>S</td>\n",
              "    </tr>\n",
              "    <tr>\n",
              "      <th>freq</th>\n",
              "      <td>NaN</td>\n",
              "      <td>NaN</td>\n",
              "      <td>NaN</td>\n",
              "      <td>1</td>\n",
              "      <td>577</td>\n",
              "      <td>NaN</td>\n",
              "      <td>NaN</td>\n",
              "      <td>NaN</td>\n",
              "      <td>7</td>\n",
              "      <td>NaN</td>\n",
              "      <td>4</td>\n",
              "      <td>644</td>\n",
              "    </tr>\n",
              "    <tr>\n",
              "      <th>mean</th>\n",
              "      <td>446.000000</td>\n",
              "      <td>0.383838</td>\n",
              "      <td>2.308642</td>\n",
              "      <td>NaN</td>\n",
              "      <td>NaN</td>\n",
              "      <td>29.699118</td>\n",
              "      <td>0.523008</td>\n",
              "      <td>0.381594</td>\n",
              "      <td>NaN</td>\n",
              "      <td>32.204208</td>\n",
              "      <td>NaN</td>\n",
              "      <td>NaN</td>\n",
              "    </tr>\n",
              "    <tr>\n",
              "      <th>std</th>\n",
              "      <td>257.353842</td>\n",
              "      <td>0.486592</td>\n",
              "      <td>0.836071</td>\n",
              "      <td>NaN</td>\n",
              "      <td>NaN</td>\n",
              "      <td>14.526497</td>\n",
              "      <td>1.102743</td>\n",
              "      <td>0.806057</td>\n",
              "      <td>NaN</td>\n",
              "      <td>49.693429</td>\n",
              "      <td>NaN</td>\n",
              "      <td>NaN</td>\n",
              "    </tr>\n",
              "    <tr>\n",
              "      <th>min</th>\n",
              "      <td>1.000000</td>\n",
              "      <td>0.000000</td>\n",
              "      <td>1.000000</td>\n",
              "      <td>NaN</td>\n",
              "      <td>NaN</td>\n",
              "      <td>0.420000</td>\n",
              "      <td>0.000000</td>\n",
              "      <td>0.000000</td>\n",
              "      <td>NaN</td>\n",
              "      <td>0.000000</td>\n",
              "      <td>NaN</td>\n",
              "      <td>NaN</td>\n",
              "    </tr>\n",
              "    <tr>\n",
              "      <th>25%</th>\n",
              "      <td>223.500000</td>\n",
              "      <td>0.000000</td>\n",
              "      <td>2.000000</td>\n",
              "      <td>NaN</td>\n",
              "      <td>NaN</td>\n",
              "      <td>20.125000</td>\n",
              "      <td>0.000000</td>\n",
              "      <td>0.000000</td>\n",
              "      <td>NaN</td>\n",
              "      <td>7.910400</td>\n",
              "      <td>NaN</td>\n",
              "      <td>NaN</td>\n",
              "    </tr>\n",
              "    <tr>\n",
              "      <th>50%</th>\n",
              "      <td>446.000000</td>\n",
              "      <td>0.000000</td>\n",
              "      <td>3.000000</td>\n",
              "      <td>NaN</td>\n",
              "      <td>NaN</td>\n",
              "      <td>28.000000</td>\n",
              "      <td>0.000000</td>\n",
              "      <td>0.000000</td>\n",
              "      <td>NaN</td>\n",
              "      <td>14.454200</td>\n",
              "      <td>NaN</td>\n",
              "      <td>NaN</td>\n",
              "    </tr>\n",
              "    <tr>\n",
              "      <th>75%</th>\n",
              "      <td>668.500000</td>\n",
              "      <td>1.000000</td>\n",
              "      <td>3.000000</td>\n",
              "      <td>NaN</td>\n",
              "      <td>NaN</td>\n",
              "      <td>38.000000</td>\n",
              "      <td>1.000000</td>\n",
              "      <td>0.000000</td>\n",
              "      <td>NaN</td>\n",
              "      <td>31.000000</td>\n",
              "      <td>NaN</td>\n",
              "      <td>NaN</td>\n",
              "    </tr>\n",
              "    <tr>\n",
              "      <th>max</th>\n",
              "      <td>891.000000</td>\n",
              "      <td>1.000000</td>\n",
              "      <td>3.000000</td>\n",
              "      <td>NaN</td>\n",
              "      <td>NaN</td>\n",
              "      <td>80.000000</td>\n",
              "      <td>8.000000</td>\n",
              "      <td>6.000000</td>\n",
              "      <td>NaN</td>\n",
              "      <td>512.329200</td>\n",
              "      <td>NaN</td>\n",
              "      <td>NaN</td>\n",
              "    </tr>\n",
              "  </tbody>\n",
              "</table>\n",
              "</div>"
            ],
            "text/plain": [
              "        PassengerId    Survived      Pclass  ...        Fare Cabin  Embarked\n",
              "count    891.000000  891.000000  891.000000  ...  891.000000   204       889\n",
              "unique          NaN         NaN         NaN  ...         NaN   147         3\n",
              "top             NaN         NaN         NaN  ...         NaN    G6         S\n",
              "freq            NaN         NaN         NaN  ...         NaN     4       644\n",
              "mean     446.000000    0.383838    2.308642  ...   32.204208   NaN       NaN\n",
              "std      257.353842    0.486592    0.836071  ...   49.693429   NaN       NaN\n",
              "min        1.000000    0.000000    1.000000  ...    0.000000   NaN       NaN\n",
              "25%      223.500000    0.000000    2.000000  ...    7.910400   NaN       NaN\n",
              "50%      446.000000    0.000000    3.000000  ...   14.454200   NaN       NaN\n",
              "75%      668.500000    1.000000    3.000000  ...   31.000000   NaN       NaN\n",
              "max      891.000000    1.000000    3.000000  ...  512.329200   NaN       NaN\n",
              "\n",
              "[11 rows x 12 columns]"
            ]
          },
          "metadata": {
            "tags": []
          },
          "execution_count": 3
        }
      ]
    },
    {
      "cell_type": "markdown",
      "metadata": {
        "id": "zqrQG_NpM8cW"
      },
      "source": [
        "### **First, i will find the number of missing values for each column.**\n",
        "The first step in data analysis is to identify columns with missing dataas well as the number of records with missing value for each column.\n",
        "\n",
        "Hint: you will need [isna](https://pandas.pydata.org/pandas-docs/stable/generated/pandas.DataFrame.isna.html) function."
      ]
    },
    {
      "cell_type": "markdown",
      "metadata": {
        "id": "DJgh5frqYuao"
      },
      "source": [
        "Column Age has 177 missing values, Cabin has 687 missing values and Embarked column has 2 missing values"
      ]
    },
    {
      "cell_type": "code",
      "metadata": {
        "id": "q-yVQIkVM8cW",
        "colab": {
          "base_uri": "https://localhost:8080/"
        },
        "outputId": "6ae819cc-c3f3-4bc7-9913-d2c51bc0ad9e"
      },
      "source": [
        "titanic.isna().sum()\n"
      ],
      "execution_count": null,
      "outputs": [
        {
          "output_type": "execute_result",
          "data": {
            "text/plain": [
              "PassengerId      0\n",
              "Survived         0\n",
              "Pclass           0\n",
              "Name             0\n",
              "Sex              0\n",
              "Age            177\n",
              "SibSp            0\n",
              "Parch            0\n",
              "Ticket           0\n",
              "Fare             0\n",
              "Cabin          687\n",
              "Embarked         2\n",
              "dtype: int64"
            ]
          },
          "metadata": {
            "tags": []
          },
          "execution_count": 5
        }
      ]
    },
    {
      "cell_type": "markdown",
      "metadata": {
        "id": "dyv7SbkjM8cY"
      },
      "source": [
        "### **Impute missing values.**\n",
        "Now we've identified the following columns with missing values: _Age_, _Cabin_ and _Embarked_. As the next step, we want to impute those missing values. There are three ways to impute the missing values:\n",
        "- A constant value that has meaning within the domain.\n",
        "- The mean, median or mode value based on non-missing values of that column.\n",
        "- A random value drawn from other non-missing values of that column.\n",
        "\n",
        "Now , i will write code to impute the missing values as follows:\n",
        "- the missing values of column _age_ with the mean of that column.\n",
        "- the missing values of column _Cabin_ with a constant value 'other'.\n",
        "- the missing values of column _Embarked_ with the [mode](https://pandas.pydata.org/pandas-docs/stable/generated/pandas.DataFrame.mode.html) of that column."
      ]
    },
    {
      "cell_type": "code",
      "metadata": {
        "id": "TfCy8py-M8cZ",
        "colab": {
          "base_uri": "https://localhost:8080/"
        },
        "outputId": "aa371a56-9835-4bb7-93fa-ac627ac844ba"
      },
      "source": [
        "\n",
        "# impute missing value in age column with its mean\n",
        "titanic['Age'] = titanic['Age'].fillna((titanic['Age'].mean()))\n",
        "\n",
        "#impute missing values in embarked column with its mode\n",
        "titanic['Embarked'].mode()\n",
        "titanic['Embarked'] = titanic['Embarked'].fillna('S')\n",
        "\n",
        "#impute missing values in cabin column with value 'other'\n",
        "titanic['Cabin'] = titanic['Cabin'].fillna('other')\n",
        "#code to print count of missing values in each column after imputation to verify that no missing values are remaining\n",
        "titanic.isna().sum()"
      ],
      "execution_count": null,
      "outputs": [
        {
          "output_type": "execute_result",
          "data": {
            "text/plain": [
              "PassengerId    0\n",
              "Survived       0\n",
              "Pclass         0\n",
              "Name           0\n",
              "Sex            0\n",
              "Age            0\n",
              "SibSp          0\n",
              "Parch          0\n",
              "Ticket         0\n",
              "Fare           0\n",
              "Cabin          0\n",
              "Embarked       0\n",
              "dtype: int64"
            ]
          },
          "metadata": {
            "tags": []
          },
          "execution_count": 6
        }
      ]
    },
    {
      "cell_type": "markdown",
      "metadata": {
        "id": "slueIatrM8cb"
      },
      "source": [
        "### **Name of the person who has the 16th most expensive ticket?**"
      ]
    },
    {
      "cell_type": "markdown",
      "metadata": {
        "id": "r_JBCtWLgOo9"
      },
      "source": [
        "Farthing,Mr.John has the 16th most expensive ticket of 221.779 dollars"
      ]
    },
    {
      "cell_type": "code",
      "metadata": {
        "id": "U9TFxZAfM8cc",
        "colab": {
          "base_uri": "https://localhost:8080/",
          "height": 51
        },
        "outputId": "3a330f0a-185e-4ce3-fbf3-6671ab5f321d"
      },
      "source": [
        "# TODO\n",
        "\n",
        "#sort values based on fare from highest to lowest and print top 20 \n",
        "sorted=titanic.sort_values('Fare', ascending=False).head(20)\n",
        "#reset index in sorted data\n",
        "sorted=sorted.reset_index()\n",
        "#fetch name of a person from the sorted data, who has the 16th most expensive ticket \n",
        "display(sorted.loc[15,['Name']])\n",
        "\n",
        "\n",
        "\n"
      ],
      "execution_count": null,
      "outputs": [
        {
          "output_type": "display_data",
          "data": {
            "text/plain": [
              "Name    Farthing, Mr. John\n",
              "Name: 15, dtype: object"
            ]
          },
          "metadata": {
            "tags": []
          }
        }
      ]
    },
    {
      "cell_type": "markdown",
      "metadata": {
        "id": "upj1tS2AM8ce"
      },
      "source": [
        "### **Out of all the females who survived, what's the name who has the 6th most expensive ticket?**"
      ]
    },
    {
      "cell_type": "markdown",
      "metadata": {
        "id": "CNTcmb1Nhjl_"
      },
      "source": [
        "**Answer**\n",
        "\n",
        "Baxter, Mrs. James (Helene DeLaudeniere Chaput) has the 6th most expensive ticket of 247.521 dollars"
      ]
    },
    {
      "cell_type": "code",
      "metadata": {
        "id": "tXywVrsoM8ce",
        "colab": {
          "base_uri": "https://localhost:8080/",
          "height": 51
        },
        "outputId": "fad0083c-e31f-41d4-af2e-4881ffc17ae9"
      },
      "source": [
        "# TODO\n",
        "#sorting values based on fare and reseting index\n",
        "female_survived=titanic.loc[(titanic['Sex']=='female')& (titanic['Survived']==1),['Name','Fare','Sex','Survived']].sort_values('Fare',ascending=False).reset_index()\n",
        "#printing top 10\n",
        "female_survived.head(10)\n",
        "#selecting 6th row of a name column\n",
        "display(female_survived.loc[5,['Name']])"
      ],
      "execution_count": null,
      "outputs": [
        {
          "output_type": "display_data",
          "data": {
            "text/plain": [
              "Name    Baxter, Mrs. James (Helene DeLaudeniere Chaput)\n",
              "Name: 5, dtype: object"
            ]
          },
          "metadata": {
            "tags": []
          }
        }
      ]
    },
    {
      "cell_type": "markdown",
      "metadata": {
        "id": "oXaAaaY3M8cg"
      },
      "source": [
        "### **Next step is to Calculate the survival rate for different gender and Pclass combination and use a couple of sentences to describe your findings. Hint: pivot_table is your friend."
      ]
    },
    {
      "cell_type": "markdown",
      "metadata": {
        "id": "Vi_RpxTxlVax"
      },
      "source": [
        "**Findings**\n",
        "\n",
        "1)Female (avg 74%) had a much higher chance of survival than men(avg 18.8%).\n",
        "Females of even third class had higher chance of survival(50%) than males of first class(36.8%). This shows that the sex column dominates over Pclass.\n",
        "\n",
        "2)In general, First class passenger had a higher chance of survival(62.9%) than the 2nd class(47.2%) followed by the third (24.2%) for both male and female category. As it is obvious from the sex-pclass combination survival rate table, survival rate reduces as we move from class 1 to class 3.\n",
        "\n",
        "3)Female of first class had the highest chance of survival(96.8%).\n",
        "\n",
        "**Insights**\n",
        "\n",
        "Women had a much higher chance of survival — regardless of what class they were in — then men did. That is females were given priority over men when it came to rescuing.\n",
        "\n",
        "Next important factor in determining the survival rate was class. Passengers of class 1 had a higher chance of survival over class 2  followed by class 3.\n"
      ]
    },
    {
      "cell_type": "code",
      "metadata": {
        "id": "GsBOqDRvM8ch",
        "colab": {
          "base_uri": "https://localhost:8080/",
          "height": 142
        },
        "outputId": "d5124f1f-9010-45cf-a842-51f570f386f1"
      },
      "source": [
        "# TODO\n",
        "#calculation of survival rate for sex and pclass combination\n",
        "survival_rate_df=titanic.groupby(['Sex','Pclass'])[\"Survived\"].mean().reset_index()\n",
        "#converting survived value to percentages\n",
        "survival_rate_df['Survived']=survival_rate_df['Survived'].apply(lambda x: (x *100))\n",
        "#creating pivot\n",
        "survival_rate_df.pivot(index='Sex',columns='Pclass', values='Survived')\n"
      ],
      "execution_count": null,
      "outputs": [
        {
          "output_type": "execute_result",
          "data": {
            "text/html": [
              "<div>\n",
              "<style scoped>\n",
              "    .dataframe tbody tr th:only-of-type {\n",
              "        vertical-align: middle;\n",
              "    }\n",
              "\n",
              "    .dataframe tbody tr th {\n",
              "        vertical-align: top;\n",
              "    }\n",
              "\n",
              "    .dataframe thead th {\n",
              "        text-align: right;\n",
              "    }\n",
              "</style>\n",
              "<table border=\"1\" class=\"dataframe\">\n",
              "  <thead>\n",
              "    <tr style=\"text-align: right;\">\n",
              "      <th>Pclass</th>\n",
              "      <th>1</th>\n",
              "      <th>2</th>\n",
              "      <th>3</th>\n",
              "    </tr>\n",
              "    <tr>\n",
              "      <th>Sex</th>\n",
              "      <th></th>\n",
              "      <th></th>\n",
              "      <th></th>\n",
              "    </tr>\n",
              "  </thead>\n",
              "  <tbody>\n",
              "    <tr>\n",
              "      <th>female</th>\n",
              "      <td>96.808511</td>\n",
              "      <td>92.105263</td>\n",
              "      <td>50.000000</td>\n",
              "    </tr>\n",
              "    <tr>\n",
              "      <th>male</th>\n",
              "      <td>36.885246</td>\n",
              "      <td>15.740741</td>\n",
              "      <td>13.544669</td>\n",
              "    </tr>\n",
              "  </tbody>\n",
              "</table>\n",
              "</div>"
            ],
            "text/plain": [
              "Pclass          1          2          3\n",
              "Sex                                    \n",
              "female  96.808511  92.105263  50.000000\n",
              "male    36.885246  15.740741  13.544669"
            ]
          },
          "metadata": {
            "tags": []
          },
          "execution_count": 66
        }
      ]
    },
    {
      "cell_type": "code",
      "metadata": {
        "colab": {
          "base_uri": "https://localhost:8080/"
        },
        "id": "IrCqvs-bjYtd",
        "outputId": "671ea721-e479-4b40-8a3c-925c6bcbbb78"
      },
      "source": [
        "#survival rate for each class(extra calculations)\n",
        "titanic.groupby(['Pclass'])[\"Survived\"].mean()"
      ],
      "execution_count": null,
      "outputs": [
        {
          "output_type": "execute_result",
          "data": {
            "text/plain": [
              "Pclass\n",
              "1    0.629630\n",
              "2    0.472826\n",
              "3    0.242363\n",
              "Name: Survived, dtype: float64"
            ]
          },
          "metadata": {
            "tags": []
          },
          "execution_count": 15
        }
      ]
    },
    {
      "cell_type": "code",
      "metadata": {
        "colab": {
          "base_uri": "https://localhost:8080/"
        },
        "id": "nTQK3zOOjYiw",
        "outputId": "c85a472c-8559-4148-b065-7dd72b95b1f7"
      },
      "source": [
        "# survival rate for sex type\n",
        "titanic.groupby(['Sex'])[\"Survived\"].mean()"
      ],
      "execution_count": null,
      "outputs": [
        {
          "output_type": "execute_result",
          "data": {
            "text/plain": [
              "Sex\n",
              "female    0.742038\n",
              "male      0.188908\n",
              "Name: Survived, dtype: float64"
            ]
          },
          "metadata": {
            "tags": []
          },
          "execution_count": 16
        }
      ]
    },
    {
      "cell_type": "markdown",
      "metadata": {
        "id": "_gfrnlR3m6ou"
      },
      "source": [
        ""
      ]
    },
    {
      "cell_type": "markdown",
      "metadata": {
        "id": "Jl8IY-XjM8cj"
      },
      "source": [
        "### ** Let's check If Age or Fare an important factor to one's chance of survival?**\n",
        "Visualize the distribution of Column _Age_ for both survived and non-survived population and write down your findings based on the visualization."
      ]
    },
    {
      "cell_type": "markdown",
      "metadata": {
        "id": "QirFhyQAF2TU"
      },
      "source": [
        "**Findings**\n",
        "\n",
        "**Based on the distribution for Age** \n",
        "\n",
        "People under 15(children) had a higher chance of survival than others.\n",
        "\n",
        "There were more survivors around age lower than 15, and rarely any survivors around or above age 60.\n",
        "This shows that the childrens were given preference over others irrespective of the class they were travelling in  while for other age groups their chances of survival were dependent on the other factors such as their sex, class of travel etc. Age is an important factor for passenger below 15.\n",
        "\n",
        "**Based on the distribution for Fare**\n",
        "\n",
        "There is a strong correlation between fare and survival rate. People who had paid < $40 had lower chances of survival than others. As we move towards right on the curve that is towards higher fare prices, chances of survival increases. This shows that fare is an important factor in determining one's chance of survival.\n",
        "\n"
      ]
    },
    {
      "cell_type": "code",
      "metadata": {
        "id": "yica7x96M8ck",
        "colab": {
          "base_uri": "https://localhost:8080/",
          "height": 693
        },
        "outputId": "3d40feb0-56ce-4d6f-d6b1-a78d569982f5"
      },
      "source": [
        "# TODO\n",
        "\n",
        "def distplot(feature, frame):\n",
        "    plt.figure(figsize=(15,5))\n",
        "    plt.title(\"Distribution for {}\".format(feature))\n",
        "    ax0 = sns.distplot(frame[frame['Survived'] == 0][feature], color= 'r', label='Survived: No',bins=15,hist=True)\n",
        "    ax1 = sns.distplot(frame[frame['Survived'] == 1][feature], color= 'g', label='Survived: Yes',bins=15,hist=True)\n",
        "    plt.legend()\n",
        "    plt.show()\n",
        "\n",
        "numerical_cols = ['Age', 'Fare']\n",
        "\n",
        "# distplot to plot the Distribution of Age for Survived and Non-survived users.\n",
        "\n",
        "distplot('Age', titanic)\n",
        "\n",
        "# distplot to plot the Distribution of Fare for Survived and Non-survived users.\n",
        "distplot('Fare', titanic)\n",
        "\n",
        "\n",
        "\n"
      ],
      "execution_count": null,
      "outputs": [
        {
          "output_type": "display_data",
          "data": {
            "image/png": "[encoded data removed]",
            "text/plain": [
              "<Figure size 1080x360 with 1 Axes>"
            ]
          },
          "metadata": {
            "tags": [],
            "needs_background": "light"
          }
        },
        {
          "output_type": "display_data",
          "data": {
            "image/png": "[encoded data removed]",
            "text/plain": [
              "<Figure size 1080x360 with 1 Axes>"
            ]
          },
          "metadata": {
            "tags": [],
            "needs_background": "light"
          }
        }
      ]
    },
    {
      "cell_type": "markdown",
      "metadata": {
        "id": "DiigUZriM8cl"
      },
      "source": [
        "### **Let's Calculate and visualize the survival rate for discrete columns**\n",
        "- Calculate the survival rate for column _SibSp_ and _Parch_.\n",
        "- Use sns.barplot to visualize the survival rate for column _SibSp_ and _Parch_."
      ]
    },
    {
      "cell_type": "markdown",
      "metadata": {
        "id": "KAwq3Xp8VuPS"
      },
      "source": [
        "**Findings**\n",
        "\n",
        "Siblings and spouse seems to have a negative effect on survival rate. This could be due to other factors such as sex,class etc.\n",
        "However, with an increase in parents and children upto 3 , survival rate increases.Thai is those with few numbers of parents/children on board had higher survivability.\n"
      ]
    },
    {
      "cell_type": "code",
      "metadata": {
        "id": "DqHs4imSM8cm",
        "colab": {
          "base_uri": "https://localhost:8080/",
          "height": 799
        },
        "outputId": "58bffd76-8a71-4d62-f532-308c9bfeefa9"
      },
      "source": [
        "# TODO\n",
        "fig, axis = plt.subplots(1, 2, figsize=(12,4))\n",
        "axis[0].set_title(\"Survival rate(SibSp)\")\n",
        "axis[1].set_title(\"Survival rate(Parch)\")\n",
        "#survival rate calculation for SibSp column\n",
        "Sibsp_df=titanic.groupby(['SibSp'])[\"Survived\"].mean().reset_index()\n",
        "#converting survived value to percentages\n",
        "Sibsp_df['Survived']=Sibsp_df['Survived'].apply(lambda x: (x *100))\n",
        "display(Sibsp_df)\n",
        "\n",
        "# Plotting survival rate for SibSp column\n",
        "ax = sns.barplot(x='SibSp', y= 'Survived', data=Sibsp_df, ax=axis[0])\n",
        "#survival rate calculation for Parch column\n",
        "Parch_df=titanic.groupby(['Parch'])[\"Survived\"].mean().reset_index()\n",
        "#converting survived value to percentages\n",
        "Parch_df['Survived']=Parch_df['Survived'].apply(lambda x: (x *100))\n",
        "display(Parch_df)\n",
        "# Plotting survival rate for Parch column\n",
        "ax = sns.barplot(x='Parch', y= 'Survived', data=Parch_df, ax=axis[1])\n",
        "#\n"
      ],
      "execution_count": null,
      "outputs": [
        {
          "output_type": "display_data",
          "data": {
            "text/html": [
              "<div>\n",
              "<style scoped>\n",
              "    .dataframe tbody tr th:only-of-type {\n",
              "        vertical-align: middle;\n",
              "    }\n",
              "\n",
              "    .dataframe tbody tr th {\n",
              "        vertical-align: top;\n",
              "    }\n",
              "\n",
              "    .dataframe thead th {\n",
              "        text-align: right;\n",
              "    }\n",
              "</style>\n",
              "<table border=\"1\" class=\"dataframe\">\n",
              "  <thead>\n",
              "    <tr style=\"text-align: right;\">\n",
              "      <th></th>\n",
              "      <th>SibSp</th>\n",
              "      <th>Survived</th>\n",
              "    </tr>\n",
              "  </thead>\n",
              "  <tbody>\n",
              "    <tr>\n",
              "      <th>0</th>\n",
              "      <td>0</td>\n",
              "      <td>34.539474</td>\n",
              "    </tr>\n",
              "    <tr>\n",
              "      <th>1</th>\n",
              "      <td>1</td>\n",
              "      <td>53.588517</td>\n",
              "    </tr>\n",
              "    <tr>\n",
              "      <th>2</th>\n",
              "      <td>2</td>\n",
              "      <td>46.428571</td>\n",
              "    </tr>\n",
              "    <tr>\n",
              "      <th>3</th>\n",
              "      <td>3</td>\n",
              "      <td>25.000000</td>\n",
              "    </tr>\n",
              "    <tr>\n",
              "      <th>4</th>\n",
              "      <td>4</td>\n",
              "      <td>16.666667</td>\n",
              "    </tr>\n",
              "    <tr>\n",
              "      <th>5</th>\n",
              "      <td>5</td>\n",
              "      <td>0.000000</td>\n",
              "    </tr>\n",
              "    <tr>\n",
              "      <th>6</th>\n",
              "      <td>8</td>\n",
              "      <td>0.000000</td>\n",
              "    </tr>\n",
              "  </tbody>\n",
              "</table>\n",
              "</div>"
            ],
            "text/plain": [
              "   SibSp   Survived\n",
              "0      0  34.539474\n",
              "1      1  53.588517\n",
              "2      2  46.428571\n",
              "3      3  25.000000\n",
              "4      4  16.666667\n",
              "5      5   0.000000\n",
              "6      8   0.000000"
            ]
          },
          "metadata": {
            "tags": []
          }
        },
        {
          "output_type": "display_data",
          "data": {
            "text/html": [
              "<div>\n",
              "<style scoped>\n",
              "    .dataframe tbody tr th:only-of-type {\n",
              "        vertical-align: middle;\n",
              "    }\n",
              "\n",
              "    .dataframe tbody tr th {\n",
              "        vertical-align: top;\n",
              "    }\n",
              "\n",
              "    .dataframe thead th {\n",
              "        text-align: right;\n",
              "    }\n",
              "</style>\n",
              "<table border=\"1\" class=\"dataframe\">\n",
              "  <thead>\n",
              "    <tr style=\"text-align: right;\">\n",
              "      <th></th>\n",
              "      <th>Parch</th>\n",
              "      <th>Survived</th>\n",
              "    </tr>\n",
              "  </thead>\n",
              "  <tbody>\n",
              "    <tr>\n",
              "      <th>0</th>\n",
              "      <td>0</td>\n",
              "      <td>34.365782</td>\n",
              "    </tr>\n",
              "    <tr>\n",
              "      <th>1</th>\n",
              "      <td>1</td>\n",
              "      <td>55.084746</td>\n",
              "    </tr>\n",
              "    <tr>\n",
              "      <th>2</th>\n",
              "      <td>2</td>\n",
              "      <td>50.000000</td>\n",
              "    </tr>\n",
              "    <tr>\n",
              "      <th>3</th>\n",
              "      <td>3</td>\n",
              "      <td>60.000000</td>\n",
              "    </tr>\n",
              "    <tr>\n",
              "      <th>4</th>\n",
              "      <td>4</td>\n",
              "      <td>0.000000</td>\n",
              "    </tr>\n",
              "    <tr>\n",
              "      <th>5</th>\n",
              "      <td>5</td>\n",
              "      <td>20.000000</td>\n",
              "    </tr>\n",
              "    <tr>\n",
              "      <th>6</th>\n",
              "      <td>6</td>\n",
              "      <td>0.000000</td>\n",
              "    </tr>\n",
              "  </tbody>\n",
              "</table>\n",
              "</div>"
            ],
            "text/plain": [
              "   Parch   Survived\n",
              "0      0  34.365782\n",
              "1      1  55.084746\n",
              "2      2  50.000000\n",
              "3      3  60.000000\n",
              "4      4   0.000000\n",
              "5      5  20.000000\n",
              "6      6   0.000000"
            ]
          },
          "metadata": {
            "tags": []
          }
        },
        {
          "output_type": "display_data",
          "data": {
            "image/png": "[encoded data removed]",
            "text/plain": [
              "<Figure size 864x288 with 2 Axes>"
            ]
          },
          "metadata": {
            "tags": []
          }
        }
      ]
    },
    {
      "cell_type": "markdown",
      "metadata": {
        "id": "WwOkr4k1M8co"
      },
      "source": [
        "### ** The correlations between the feature and the target variable _Survived_ and i will be using heatmap to visualize it"
      ]
    },
    {
      "cell_type": "markdown",
      "metadata": {
        "id": "dltAsvflMuJU"
      },
      "source": [
        "**Findings**\n",
        "\n",
        "1) Sex has the highest correlation of (.54) with the target variable(survived) that is as we increase the value of sex from 0(male) to 1(female) chance of survival increases. This shows that the females had a higher chance of survival than males.\n",
        "\n",
        "2) Pclass has the second highest correlation(-.34) with the survived variable. As we move from class 1 to class 3, survival rate decreases. That is class 1 had the highest survival rate followed by class 2 and 3.\n",
        "\n",
        "3) Fare has the third highest correlation (+.26) with survived. With increase in fare, chance of survival increases. Those who have paid higher fare have more chance of survival than others.\n",
        "\n"
      ]
    },
    {
      "cell_type": "code",
      "metadata": {
        "colab": {
          "base_uri": "https://localhost:8080/",
          "height": 455
        },
        "id": "PXN877LnyJhS",
        "outputId": "fdcddd54-c8e5-4c3b-c982-84413481f652"
      },
      "source": [
        "# TODO\n",
        "titanic_df=titanic.copy()\n",
        "titanic_df.Sex.replace(('male','female'), (0,1), inplace = True)\n",
        "titanic_df.Embarked.replace(('S','C','Q'), (0,1,2), inplace = True)\n",
        "plt.figure(figsize=(12, 6))\n",
        "colormap = plt.cm.viridis\n",
        "sns.heatmap(titanic_df.corr(  ),annot=True,cmap=colormap)\n"
      ],
      "execution_count": null,
      "outputs": [
        {
          "output_type": "execute_result",
          "data": {
            "text/plain": [
              "<matplotlib.axes._subplots.AxesSubplot at 0x7f1a5ea58410>"
            ]
          },
          "metadata": {
            "tags": []
          },
          "execution_count": 51
        },
        {
          "output_type": "display_data",
          "data": {
            "image/png": "[encoded data removed]",
            "text/plain": [
              "<Figure size 864x432 with 2 Axes>"
            ]
          },
          "metadata": {
            "tags": []
          }
        }
      ]
    },
    {
      "cell_type": "code",
      "metadata": {
        "colab": {
          "base_uri": "https://localhost:8080/",
          "height": 610
        },
        "id": "DQXIkybWR7aM",
        "outputId": "295fc583-10dc-4c15-de4c-f3751119bb3d"
      },
      "source": [
        "\n",
        "# Creating another column 'family size' that combines 'SibSp' and 'Parch' column as well as the passenger travelling\n",
        "# Becasue SibSp and Parch has a very close meaning, \"Family\" so i combine these 2 features together\n",
        "for dataset in titanic:\n",
        "    titanic['FamilySize'] = titanic['SibSp'] + titanic['Parch'] + 1\n",
        "    \n",
        "#Plotting count of survived and non survived against family size\n",
        "pd.crosstab(titanic['FamilySize'], titanic['Survived']).plot(kind='bar', stacked=True, title=\"Survived by family size\")\n",
        "\n",
        "#Plotting %survived and % non-survived against family size\n",
        "pd.crosstab(titanic['FamilySize'], titanic['Survived'], normalize='index').plot(kind='bar', stacked=True, title=\"Survived by family size (%)\")\n"
      ],
      "execution_count": null,
      "outputs": [
        {
          "output_type": "execute_result",
          "data": {
            "text/plain": [
              "<matplotlib.axes._subplots.AxesSubplot at 0x7f1a55b2f510>"
            ]
          },
          "metadata": {
            "tags": []
          },
          "execution_count": 39
        },
        {
          "output_type": "display_data",
          "data": {
            "image/png": "[encoded data removed]",
            "text/plain": [
              "<Figure size 432x288 with 1 Axes>"
            ]
          },
          "metadata": {
            "tags": [],
            "needs_background": "light"
          }
        },
        {
          "output_type": "display_data",
          "data": {
            "image/png": "[encoded data removed]",
            "text/plain": [
              "<Figure size 432x288 with 1 Axes>"
            ]
          },
          "metadata": {
            "tags": [],
            "needs_background": "light"
          }
        }
      ]
    },
    {
      "cell_type": "markdown",
      "metadata": {
        "id": "wuhcX9W4Ym8p"
      },
      "source": [
        "**Finding**\n",
        "\n",
        "For families from 1 to 4 people, as the family size increases survival rate increase as well. But for families of 5 and up, survival rates is much lower."
      ]
    },
    {
      "cell_type": "code",
      "metadata": {
        "colab": {
          "base_uri": "https://localhost:8080/",
          "height": 610
        },
        "id": "ygyqZfRHZS0u",
        "outputId": "00226f19-a7d1-44a2-a1e7-92b27ba8553c"
      },
      "source": [
        "# further segregate based on sex\n",
        "female = titanic[titanic['Sex'] == 'female']\n",
        "male = titanic[titanic['Sex'] == 'male']\n",
        " \n",
        "# Total number\n",
        "fig, [ax1, ax2] = plt.subplots(1,2, sharey=True)\n",
        "fig.set_figwidth(14)\n",
        "pd.crosstab(female['FamilySize'], female['Survived']).plot(kind='bar', stacked=True, title=\"Female\", ax=ax1)\n",
        "pd.crosstab(male['FamilySize'], male['Survived']).plot(kind='bar', stacked=True, title=\"Male\", ax=ax2)\n",
        "\n",
        "# Percentage\n",
        "fig, [ax1, ax2] = plt.subplots(1,2)\n",
        "fig.set_figwidth(14\n",
        ")\n",
        "pd.crosstab(female['FamilySize'], female['Survived'], normalize = 'index').plot(kind='bar', stacked=True, title=\"Female\", ax=ax1)\n",
        "pd.crosstab(male['FamilySize'], male['Survived'], normalize = 'index').plot(kind='bar', stacked=True, title=\"Male\", ax=ax2)\n"
      ],
      "execution_count": null,
      "outputs": [
        {
          "output_type": "execute_result",
          "data": {
            "text/plain": [
              "<matplotlib.axes._subplots.AxesSubplot at 0x7f1a5558c890>"
            ]
          },
          "metadata": {
            "tags": []
          },
          "execution_count": 43
        },
        {
          "output_type": "display_data",
          "data": {
            "image/png": "[encoded data removed]",
            "text/plain": [
              "<Figure size 1008x288 with 2 Axes>"
            ]
          },
          "metadata": {
            "tags": [],
            "needs_background": "light"
          }
        },
        {
          "output_type": "display_data",
          "data": {
            "image/png": "[encoded data removed]",
            "text/plain": [
              "<Figure size 1008x288 with 2 Axes>"
            ]
          },
          "metadata": {
            "tags": [],
            "needs_background": "light"
          }
        }
      ]
    },
    {
      "cell_type": "markdown",
      "metadata": {
        "id": "lDl-VCvIZfPH"
      },
      "source": [
        "**Findings**\n",
        "\n",
        "1) We see that for both sex, family sizes of 5 and up lead to low survival rates.\n",
        "\n",
        "2) For females in families up to 4, the survival rate is about 80%, regardless of family size.\n",
        "\n",
        "3) For males in families up to 4, the survival rate increases with family size.This means that the males who were travelling with a family of size upto 4, had gained an advantage over single males."
      ]
    },
    {
      "cell_type": "markdown",
      "metadata": {
        "id": "WN7aJgCAM8ct"
      },
      "source": [
        "### ** Now i will build a logistic regression model to predict the probability of survival for all the passengers in this [file](https://raw.githubusercontent.com/zariable/data/master/titanic_test.csv)?"
      ]
    },
    {
      "cell_type": "code",
      "metadata": {
        "id": "lDC-VM3otq7E"
      },
      "source": [
        "# importing libraries\n",
        "import os\n",
        "import io\n",
        "import warnings\n",
        "\n",
        "import numpy as np\n",
        "import scipy as sp\n",
        "import pandas as pd\n",
        "import sklearn as sk\n",
        "\n",
        "import matplotlib as mpl\n",
        "import matplotlib.pyplot as plt\n",
        "from matplotlib.colors import ListedColormap\n",
        "%matplotlib inline\n",
        "import seaborn as sns\n",
        "sns.set()\n",
        "\n",
        "# evaluation metrics\n",
        "from sklearn.metrics import mean_squared_error\n",
        "from sklearn.metrics import r2_score\n",
        "from sklearn.metrics import accuracy_score\n",
        "from sklearn.metrics import roc_auc_score\n",
        "\n",
        "# grid search for model selection\n",
        "from sklearn.model_selection import GridSearchCV\n",
        "\n",
        "# linear regression\n",
        "from sklearn.linear_model import LinearRegression\n",
        "\n",
        "# logistic regression\n",
        "from sklearn.linear_model import LogisticRegression\n",
        "\n",
        "# decision tree\n",
        "from sklearn.tree import DecisionTreeClassifier\n",
        "from sklearn.tree import DecisionTreeRegressor\n",
        "\n",
        "warnings.simplefilter(action='ignore', category=FutureWarning)"
      ],
      "execution_count": null,
      "outputs": []
    },
    {
      "cell_type": "code",
      "metadata": {
        "id": "dJ7Cdt2PM8cu"
      },
      "source": [
        "# TODO\n",
        "train_data = pd.read_csv('https://raw.githubusercontent.com/zariable/data/master/titanic_train.csv')\n",
        "#impute missing values in age column with mean\n",
        "train_data['Age'] = train_data['Age'].fillna((train_data['Age'].mean()))\n",
        "#CREATE dummy variable for sex,embarked and Pclass column\n",
        "pd.get_dummies(train_data[\"Sex\"])\n",
        "\n",
        "sex_df = pd.get_dummies(train_data[\"Sex\"],drop_first=True)\n",
        "#embarked = pd.get_dummies(train_data[\"Embarked\"],drop_first=True)\n",
        "Pclass_df = pd.get_dummies(train_data[\"Pclass\"],drop_first=True)\n",
        "# concatenate dummy columns to original data\n",
        "train_data = pd.concat([train_data,Pclass_df,sex_df],axis=1)\n",
        "# drop unneccesaary columns\n",
        "train_data.drop([\"PassengerId\",\"Pclass\",\"Name\",\"Sex\",\"Ticket\",\"Embarked\",\"Cabin\"],axis=1,inplace=True)\n",
        "train_data.head()\n",
        "train_x = train_data.drop(\"Survived\",axis=1)\n",
        "train_y = train_data.loc[:,'Survived']\n"
      ],
      "execution_count": null,
      "outputs": []
    },
    {
      "cell_type": "code",
      "metadata": {
        "colab": {
          "base_uri": "https://localhost:8080/",
          "height": 470
        },
        "id": "ulmT_kbTpI_A",
        "outputId": "aec1640b-2836-480b-b492-5974ab0ca475"
      },
      "source": [
        "test_data = pd.read_csv('https://raw.githubusercontent.com/zariable/data/master/titanic_test.csv')\n",
        "test_data_set=pd.read_csv('https://raw.githubusercontent.com/zariable/data/master/titanic_test.csv')\n",
        "print(test_data.columns)\n",
        "#impute missing values in age and fare column with mean value\n",
        "test_data['Age'] = test_data['Age'].fillna((test_data['Age'].mean()))\n",
        "test_data['Fare'] = test_data['Fare'].fillna((test_data['Fare'].mean()))\n",
        "#CREATE dummy variable for sex,embarked and Pclass column\n",
        "pd.get_dummies(test_data[\"Sex\"])\n",
        "\n",
        "sex_df2 = pd.get_dummies(test_data[\"Sex\"],drop_first=True)\n",
        "#embarked = pd.get_dummies(train_data[\"Embarked\"],drop_first=True)\n",
        "Pclass_df2 = pd.get_dummies(test_data[\"Pclass\"],drop_first=True)\n",
        "# concatenate dummy columns to original data\n",
        "test_data = pd.concat([test_data,Pclass_df2,sex_df2],axis=1)\n",
        "test_data.head()\n",
        "# drop unneccesaary columns\n",
        "test_data.drop([\"PassengerId\",\"Pclass\",\"Name\",\"Sex\",\"Ticket\",\"Embarked\",\"Cabin\"],axis=1,inplace=True)\n",
        "test_x = test_data.loc[:,['Age','SibSp','Parch','Fare',2,3,'male']]\n",
        "test_x\n",
        "#test_y = test_data.loc[:,'Survived']\n"
      ],
      "execution_count": null,
      "outputs": [
        {
          "output_type": "stream",
          "text": [
            "Index(['PassengerId', 'Pclass', 'Name', 'Sex', 'Age', 'SibSp', 'Parch',\n",
            "       'Ticket', 'Fare', 'Cabin', 'Embarked'],\n",
            "      dtype='object')\n"
          ],
          "name": "stdout"
        },
        {
          "output_type": "execute_result",
          "data": {
            "text/html": [
              "<div>\n",
              "<style scoped>\n",
              "    .dataframe tbody tr th:only-of-type {\n",
              "        vertical-align: middle;\n",
              "    }\n",
              "\n",
              "    .dataframe tbody tr th {\n",
              "        vertical-align: top;\n",
              "    }\n",
              "\n",
              "    .dataframe thead th {\n",
              "        text-align: right;\n",
              "    }\n",
              "</style>\n",
              "<table border=\"1\" class=\"dataframe\">\n",
              "  <thead>\n",
              "    <tr style=\"text-align: right;\">\n",
              "      <th></th>\n",
              "      <th>Age</th>\n",
              "      <th>SibSp</th>\n",
              "      <th>Parch</th>\n",
              "      <th>Fare</th>\n",
              "      <th>2</th>\n",
              "      <th>3</th>\n",
              "      <th>male</th>\n",
              "    </tr>\n",
              "  </thead>\n",
              "  <tbody>\n",
              "    <tr>\n",
              "      <th>0</th>\n",
              "      <td>34.50000</td>\n",
              "      <td>0</td>\n",
              "      <td>0</td>\n",
              "      <td>7.8292</td>\n",
              "      <td>0</td>\n",
              "      <td>1</td>\n",
              "      <td>1</td>\n",
              "    </tr>\n",
              "    <tr>\n",
              "      <th>1</th>\n",
              "      <td>47.00000</td>\n",
              "      <td>1</td>\n",
              "      <td>0</td>\n",
              "      <td>7.0000</td>\n",
              "      <td>0</td>\n",
              "      <td>1</td>\n",
              "      <td>0</td>\n",
              "    </tr>\n",
              "    <tr>\n",
              "      <th>2</th>\n",
              "      <td>62.00000</td>\n",
              "      <td>0</td>\n",
              "      <td>0</td>\n",
              "      <td>9.6875</td>\n",
              "      <td>1</td>\n",
              "      <td>0</td>\n",
              "      <td>1</td>\n",
              "    </tr>\n",
              "    <tr>\n",
              "      <th>3</th>\n",
              "      <td>27.00000</td>\n",
              "      <td>0</td>\n",
              "      <td>0</td>\n",
              "      <td>8.6625</td>\n",
              "      <td>0</td>\n",
              "      <td>1</td>\n",
              "      <td>1</td>\n",
              "    </tr>\n",
              "    <tr>\n",
              "      <th>4</th>\n",
              "      <td>22.00000</td>\n",
              "      <td>1</td>\n",
              "      <td>1</td>\n",
              "      <td>12.2875</td>\n",
              "      <td>0</td>\n",
              "      <td>1</td>\n",
              "      <td>0</td>\n",
              "    </tr>\n",
              "    <tr>\n",
              "      <th>...</th>\n",
              "      <td>...</td>\n",
              "      <td>...</td>\n",
              "      <td>...</td>\n",
              "      <td>...</td>\n",
              "      <td>...</td>\n",
              "      <td>...</td>\n",
              "      <td>...</td>\n",
              "    </tr>\n",
              "    <tr>\n",
              "      <th>413</th>\n",
              "      <td>30.27259</td>\n",
              "      <td>0</td>\n",
              "      <td>0</td>\n",
              "      <td>8.0500</td>\n",
              "      <td>0</td>\n",
              "      <td>1</td>\n",
              "      <td>1</td>\n",
              "    </tr>\n",
              "    <tr>\n",
              "      <th>414</th>\n",
              "      <td>39.00000</td>\n",
              "      <td>0</td>\n",
              "      <td>0</td>\n",
              "      <td>108.9000</td>\n",
              "      <td>0</td>\n",
              "      <td>0</td>\n",
              "      <td>0</td>\n",
              "    </tr>\n",
              "    <tr>\n",
              "      <th>415</th>\n",
              "      <td>38.50000</td>\n",
              "      <td>0</td>\n",
              "      <td>0</td>\n",
              "      <td>7.2500</td>\n",
              "      <td>0</td>\n",
              "      <td>1</td>\n",
              "      <td>1</td>\n",
              "    </tr>\n",
              "    <tr>\n",
              "      <th>416</th>\n",
              "      <td>30.27259</td>\n",
              "      <td>0</td>\n",
              "      <td>0</td>\n",
              "      <td>8.0500</td>\n",
              "      <td>0</td>\n",
              "      <td>1</td>\n",
              "      <td>1</td>\n",
              "    </tr>\n",
              "    <tr>\n",
              "      <th>417</th>\n",
              "      <td>30.27259</td>\n",
              "      <td>1</td>\n",
              "      <td>1</td>\n",
              "      <td>22.3583</td>\n",
              "      <td>0</td>\n",
              "      <td>1</td>\n",
              "      <td>1</td>\n",
              "    </tr>\n",
              "  </tbody>\n",
              "</table>\n",
              "<p>418 rows × 7 columns</p>\n",
              "</div>"
            ],
            "text/plain": [
              "          Age  SibSp  Parch      Fare  2  3  male\n",
              "0    34.50000      0      0    7.8292  0  1     1\n",
              "1    47.00000      1      0    7.0000  0  1     0\n",
              "2    62.00000      0      0    9.6875  1  0     1\n",
              "3    27.00000      0      0    8.6625  0  1     1\n",
              "4    22.00000      1      1   12.2875  0  1     0\n",
              "..        ...    ...    ...       ... .. ..   ...\n",
              "413  30.27259      0      0    8.0500  0  1     1\n",
              "414  39.00000      0      0  108.9000  0  0     0\n",
              "415  38.50000      0      0    7.2500  0  1     1\n",
              "416  30.27259      0      0    8.0500  0  1     1\n",
              "417  30.27259      1      1   22.3583  0  1     1\n",
              "\n",
              "[418 rows x 7 columns]"
            ]
          },
          "metadata": {
            "tags": []
          },
          "execution_count": 46
        }
      ]
    },
    {
      "cell_type": "code",
      "metadata": {
        "colab": {
          "base_uri": "https://localhost:8080/"
        },
        "id": "jhHO1VHNpMov",
        "outputId": "9c29ed9f-ff0d-4408-9e13-16cc5eef9e68"
      },
      "source": [
        "# logistic regression model\n",
        "logistic_regression_model=LogisticRegression()\n",
        "logistic_regression_model.fit(train_x,train_y)\n"
      ],
      "execution_count": null,
      "outputs": [
        {
          "output_type": "stream",
          "text": [
            "/usr/local/lib/python3.7/dist-packages/sklearn/linear_model/_logistic.py:940: ConvergenceWarning: lbfgs failed to converge (status=1):\n",
            "STOP: TOTAL NO. of ITERATIONS REACHED LIMIT.\n",
            "\n",
            "Increase the number of iterations (max_iter) or scale the data as shown in:\n",
            "    https://scikit-learn.org/stable/modules/preprocessing.html\n",
            "Please also refer to the documentation for alternative solver options:\n",
            "    https://scikit-learn.org/stable/modules/linear_model.html#logistic-regression\n",
            "  extra_warning_msg=_LOGISTIC_SOLVER_CONVERGENCE_MSG)\n"
          ],
          "name": "stderr"
        },
        {
          "output_type": "execute_result",
          "data": {
            "text/plain": [
              "LogisticRegression(C=1.0, class_weight=None, dual=False, fit_intercept=True,\n",
              "                   intercept_scaling=1, l1_ratio=None, max_iter=100,\n",
              "                   multi_class='auto', n_jobs=None, penalty='l2',\n",
              "                   random_state=None, solver='lbfgs', tol=0.0001, verbose=0,\n",
              "                   warm_start=False)"
            ]
          },
          "metadata": {
            "tags": []
          },
          "execution_count": 47
        }
      ]
    },
    {
      "cell_type": "code",
      "metadata": {
        "colab": {
          "base_uri": "https://localhost:8080/",
          "height": 419
        },
        "id": "KpTixZMaIrBR",
        "outputId": "d738a2a4-f0cd-4d1a-e625-47b5988cbbb3"
      },
      "source": [
        "train_pred_class=logistic_regression_model.predict(train_x)\n",
        "train_z=pd.DataFrame(train_pred_class,columns=['Survived'])\n",
        "train_z"
      ],
      "execution_count": null,
      "outputs": [
        {
          "output_type": "execute_result",
          "data": {
            "text/html": [
              "<div>\n",
              "<style scoped>\n",
              "    .dataframe tbody tr th:only-of-type {\n",
              "        vertical-align: middle;\n",
              "    }\n",
              "\n",
              "    .dataframe tbody tr th {\n",
              "        vertical-align: top;\n",
              "    }\n",
              "\n",
              "    .dataframe thead th {\n",
              "        text-align: right;\n",
              "    }\n",
              "</style>\n",
              "<table border=\"1\" class=\"dataframe\">\n",
              "  <thead>\n",
              "    <tr style=\"text-align: right;\">\n",
              "      <th></th>\n",
              "      <th>Survived</th>\n",
              "    </tr>\n",
              "  </thead>\n",
              "  <tbody>\n",
              "    <tr>\n",
              "      <th>0</th>\n",
              "      <td>0</td>\n",
              "    </tr>\n",
              "    <tr>\n",
              "      <th>1</th>\n",
              "      <td>1</td>\n",
              "    </tr>\n",
              "    <tr>\n",
              "      <th>2</th>\n",
              "      <td>1</td>\n",
              "    </tr>\n",
              "    <tr>\n",
              "      <th>3</th>\n",
              "      <td>1</td>\n",
              "    </tr>\n",
              "    <tr>\n",
              "      <th>4</th>\n",
              "      <td>0</td>\n",
              "    </tr>\n",
              "    <tr>\n",
              "      <th>...</th>\n",
              "      <td>...</td>\n",
              "    </tr>\n",
              "    <tr>\n",
              "      <th>886</th>\n",
              "      <td>0</td>\n",
              "    </tr>\n",
              "    <tr>\n",
              "      <th>887</th>\n",
              "      <td>1</td>\n",
              "    </tr>\n",
              "    <tr>\n",
              "      <th>888</th>\n",
              "      <td>0</td>\n",
              "    </tr>\n",
              "    <tr>\n",
              "      <th>889</th>\n",
              "      <td>1</td>\n",
              "    </tr>\n",
              "    <tr>\n",
              "      <th>890</th>\n",
              "      <td>0</td>\n",
              "    </tr>\n",
              "  </tbody>\n",
              "</table>\n",
              "<p>891 rows × 1 columns</p>\n",
              "</div>"
            ],
            "text/plain": [
              "     Survived\n",
              "0           0\n",
              "1           1\n",
              "2           1\n",
              "3           1\n",
              "4           0\n",
              "..        ...\n",
              "886         0\n",
              "887         1\n",
              "888         0\n",
              "889         1\n",
              "890         0\n",
              "\n",
              "[891 rows x 1 columns]"
            ]
          },
          "metadata": {
            "tags": []
          },
          "execution_count": 48
        }
      ]
    },
    {
      "cell_type": "code",
      "metadata": {
        "id": "ujJg4PfrpS83"
      },
      "source": [
        "# use the RL model and make predictions on the training data as well as the test data\n",
        "\n",
        "# predict probability of survived=1\n",
        "test_pred_proba=logistic_regression_model.predict_proba(test_x)[:,1]\n",
        "Result_pred_proba=pd.DataFrame(test_pred_proba,columns=['Survival_Probability'])\n",
        "\n",
        "# predict survival class on test data \n",
        "\n",
        "test_pred_class=logistic_regression_model.predict(test_x)\n",
        "Result_pred_class=pd.DataFrame(test_pred_class,columns=['Survived'])\n",
        "\n",
        "Result_x=test_x\n",
        "\n",
        "# selecting columns that were previously excluded\n",
        "excluded_cols_df=test_data_set.loc[:,['PassengerId','Pclass','Name','Sex','Ticket','Embarked','Cabin']]\n",
        "\n",
        "# concatenate survival class prediction, probability of survival with the test dataset\n",
        "result_df=pd.concat([excluded_cols_df,Result_x,Result_pred_class,Result_pred_proba],axis=1)\n",
        "\n",
        "\n"
      ],
      "execution_count": null,
      "outputs": []
    },
    {
      "cell_type": "code",
      "metadata": {
        "id": "-CU-ghuuFhHI"
      },
      "source": [
        "# write output data to check model accuracy on kaggle\n",
        "result_df[['PassengerId','Survived']].to_csv('titanic_result_set.csv',index=False)\n"
      ],
      "execution_count": null,
      "outputs": []
    },
    {
      "cell_type": "markdown",
      "metadata": {
        "id": "a4n1dGgO1JbZ"
      },
      "source": [
        "Model accuracy came out to be 76.07 %![Screen Shot 2021-03-02 at 7.29.28 PM.png](data:image/png;base64,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)"
      ]
    },
    {
      "cell_type": "code",
      "metadata": {
        "colab": {
          "base_uri": "https://localhost:8080/"
        },
        "id": "vsKjNaSdpVUm",
        "outputId": "6d2bf869-c532-4856-ac3d-08a39e34ef15"
      },
      "source": [
        "print(\"model accuracy on train set: {}\".format(accuracy_score(train_y, train_z)))\n",
        "#print(\"model accuracy on test set: {}\".format(accuracy_score(test_y, test_z)))"
      ],
      "execution_count": null,
      "outputs": [
        {
          "output_type": "stream",
          "text": [
            "model accuracy on train set: 0.8013468013468014\n"
          ],
          "name": "stdout"
        }
      ]
    }
  ]
}